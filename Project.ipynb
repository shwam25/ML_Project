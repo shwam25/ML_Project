{
 "cells": [
  {
   "cell_type": "code",
   "execution_count": 1,
   "metadata": {},
   "outputs": [],
   "source": [
    "#Import Libraries\n",
    "import pandas as pd\n",
    "import matplotlib.pyplot as plt\n",
    "from scipy.stats import linregress\n",
    "from datetime import datetime\n",
    "import numpy as np"
   ]
  },
  {
   "cell_type": "code",
   "execution_count": 3,
   "metadata": {},
   "outputs": [],
   "source": [
    "# CSVs from Resources Folder\n",
    "file_one = \"Resources\\Data1.csv\"\n",
    "file_two = \"Resources\\Data2.csv\""
   ]
  },
  {
   "cell_type": "code",
   "execution_count": 4,
   "metadata": {},
   "outputs": [],
   "source": [
    "# Reading Data from CSV files\n",
    "file_one_df = pd.read_csv(file_one, encoding=\"ISO-8859-1\")\n",
    "file_two_df = pd.read_csv(file_two, encoding=\"ISO-8859-1\")"
   ]
  },
  {
   "cell_type": "code",
   "execution_count": 5,
   "metadata": {},
   "outputs": [
    {
     "data": {
      "text/html": [
       "<div>\n",
       "<style scoped>\n",
       "    .dataframe tbody tr th:only-of-type {\n",
       "        vertical-align: middle;\n",
       "    }\n",
       "\n",
       "    .dataframe tbody tr th {\n",
       "        vertical-align: top;\n",
       "    }\n",
       "\n",
       "    .dataframe thead th {\n",
       "        text-align: right;\n",
       "    }\n",
       "</style>\n",
       "<table border=\"1\" class=\"dataframe\">\n",
       "  <thead>\n",
       "    <tr style=\"text-align: right;\">\n",
       "      <th></th>\n",
       "      <th>Temperature</th>\n",
       "      <th>Revenue</th>\n",
       "      <th>DATE</th>\n",
       "    </tr>\n",
       "  </thead>\n",
       "  <tbody>\n",
       "    <tr>\n",
       "      <td>0</td>\n",
       "      <td>24.566884</td>\n",
       "      <td>534.799028</td>\n",
       "      <td>01/01/1972</td>\n",
       "    </tr>\n",
       "    <tr>\n",
       "      <td>1</td>\n",
       "      <td>26.005191</td>\n",
       "      <td>625.190122</td>\n",
       "      <td>01/02/1972</td>\n",
       "    </tr>\n",
       "    <tr>\n",
       "      <td>2</td>\n",
       "      <td>27.790554</td>\n",
       "      <td>660.632289</td>\n",
       "      <td>01/03/1972</td>\n",
       "    </tr>\n",
       "    <tr>\n",
       "      <td>3</td>\n",
       "      <td>20.595335</td>\n",
       "      <td>487.706960</td>\n",
       "      <td>01/04/1972</td>\n",
       "    </tr>\n",
       "    <tr>\n",
       "      <td>4</td>\n",
       "      <td>11.503498</td>\n",
       "      <td>316.240194</td>\n",
       "      <td>01/05/1972</td>\n",
       "    </tr>\n",
       "  </tbody>\n",
       "</table>\n",
       "</div>"
      ],
      "text/plain": [
       "   Temperature     Revenue        DATE\n",
       "0    24.566884  534.799028  01/01/1972\n",
       "1    26.005191  625.190122  01/02/1972\n",
       "2    27.790554  660.632289  01/03/1972\n",
       "3    20.595335  487.706960  01/04/1972\n",
       "4    11.503498  316.240194  01/05/1972"
      ]
     },
     "execution_count": 5,
     "metadata": {},
     "output_type": "execute_result"
    }
   ],
   "source": [
    "#  Data frames\n",
    "file_one_df[\"DATE\"]=file_two_df[\"DATE\"]\n",
    "file_one_df.head()\n"
   ]
  },
  {
   "cell_type": "code",
   "execution_count": 7,
   "metadata": {},
   "outputs": [
    {
     "data": {
      "text/html": [
       "<div>\n",
       "<style scoped>\n",
       "    .dataframe tbody tr th:only-of-type {\n",
       "        vertical-align: middle;\n",
       "    }\n",
       "\n",
       "    .dataframe tbody tr th {\n",
       "        vertical-align: top;\n",
       "    }\n",
       "\n",
       "    .dataframe thead th {\n",
       "        text-align: right;\n",
       "    }\n",
       "</style>\n",
       "<table border=\"1\" class=\"dataframe\">\n",
       "  <thead>\n",
       "    <tr style=\"text-align: right;\">\n",
       "      <th></th>\n",
       "      <th>Temperature</th>\n",
       "      <th>Revenue</th>\n",
       "      <th>DATE</th>\n",
       "      <th>value</th>\n",
       "    </tr>\n",
       "  </thead>\n",
       "  <tbody>\n",
       "    <tr>\n",
       "      <td>0</td>\n",
       "      <td>24.566884</td>\n",
       "      <td>534.799028</td>\n",
       "      <td>01/01/1972</td>\n",
       "      <td>59.9622</td>\n",
       "    </tr>\n",
       "    <tr>\n",
       "      <td>1</td>\n",
       "      <td>26.005191</td>\n",
       "      <td>625.190122</td>\n",
       "      <td>01/02/1972</td>\n",
       "      <td>67.0605</td>\n",
       "    </tr>\n",
       "    <tr>\n",
       "      <td>2</td>\n",
       "      <td>27.790554</td>\n",
       "      <td>660.632289</td>\n",
       "      <td>01/03/1972</td>\n",
       "      <td>74.2350</td>\n",
       "    </tr>\n",
       "    <tr>\n",
       "      <td>3</td>\n",
       "      <td>20.595335</td>\n",
       "      <td>487.706960</td>\n",
       "      <td>01/04/1972</td>\n",
       "      <td>78.1120</td>\n",
       "    </tr>\n",
       "    <tr>\n",
       "      <td>4</td>\n",
       "      <td>11.503498</td>\n",
       "      <td>316.240194</td>\n",
       "      <td>01/05/1972</td>\n",
       "      <td>84.7636</td>\n",
       "    </tr>\n",
       "  </tbody>\n",
       "</table>\n",
       "</div>"
      ],
      "text/plain": [
       "   Temperature     Revenue        DATE    value\n",
       "0    24.566884  534.799028  01/01/1972  59.9622\n",
       "1    26.005191  625.190122  01/02/1972  67.0605\n",
       "2    27.790554  660.632289  01/03/1972  74.2350\n",
       "3    20.595335  487.706960  01/04/1972  78.1120\n",
       "4    11.503498  316.240194  01/05/1972  84.7636"
      ]
     },
     "execution_count": 7,
     "metadata": {},
     "output_type": "execute_result"
    }
   ],
   "source": [
    "file_one_df[\"value\"]=file_two_df[\"value\"]\n",
    "file_one_df.head()"
   ]
  },
  {
   "cell_type": "code",
   "execution_count": 8,
   "metadata": {},
   "outputs": [],
   "source": [
    "data=file_one_df"
   ]
  },
  {
   "cell_type": "code",
   "execution_count": 9,
   "metadata": {},
   "outputs": [],
   "source": [
    "#Renaming Columns\n",
    "final_data=data.rename(columns={\"DATE\": \"Date\", \"value\": \"Consumption\"})"
   ]
  },
  {
   "cell_type": "code",
   "execution_count": 10,
   "metadata": {},
   "outputs": [
    {
     "data": {
      "text/html": [
       "<div>\n",
       "<style scoped>\n",
       "    .dataframe tbody tr th:only-of-type {\n",
       "        vertical-align: middle;\n",
       "    }\n",
       "\n",
       "    .dataframe tbody tr th {\n",
       "        vertical-align: top;\n",
       "    }\n",
       "\n",
       "    .dataframe thead th {\n",
       "        text-align: right;\n",
       "    }\n",
       "</style>\n",
       "<table border=\"1\" class=\"dataframe\">\n",
       "  <thead>\n",
       "    <tr style=\"text-align: right;\">\n",
       "      <th></th>\n",
       "      <th>Temperature</th>\n",
       "      <th>Revenue</th>\n",
       "      <th>Date</th>\n",
       "      <th>Consumption</th>\n",
       "    </tr>\n",
       "  </thead>\n",
       "  <tbody>\n",
       "    <tr>\n",
       "      <td>0</td>\n",
       "      <td>24.566884</td>\n",
       "      <td>534.799028</td>\n",
       "      <td>01/01/1972</td>\n",
       "      <td>59.9622</td>\n",
       "    </tr>\n",
       "    <tr>\n",
       "      <td>1</td>\n",
       "      <td>26.005191</td>\n",
       "      <td>625.190122</td>\n",
       "      <td>01/02/1972</td>\n",
       "      <td>67.0605</td>\n",
       "    </tr>\n",
       "    <tr>\n",
       "      <td>2</td>\n",
       "      <td>27.790554</td>\n",
       "      <td>660.632289</td>\n",
       "      <td>01/03/1972</td>\n",
       "      <td>74.2350</td>\n",
       "    </tr>\n",
       "    <tr>\n",
       "      <td>3</td>\n",
       "      <td>20.595335</td>\n",
       "      <td>487.706960</td>\n",
       "      <td>01/04/1972</td>\n",
       "      <td>78.1120</td>\n",
       "    </tr>\n",
       "    <tr>\n",
       "      <td>4</td>\n",
       "      <td>11.503498</td>\n",
       "      <td>316.240194</td>\n",
       "      <td>01/05/1972</td>\n",
       "      <td>84.7636</td>\n",
       "    </tr>\n",
       "  </tbody>\n",
       "</table>\n",
       "</div>"
      ],
      "text/plain": [
       "   Temperature     Revenue        Date  Consumption\n",
       "0    24.566884  534.799028  01/01/1972      59.9622\n",
       "1    26.005191  625.190122  01/02/1972      67.0605\n",
       "2    27.790554  660.632289  01/03/1972      74.2350\n",
       "3    20.595335  487.706960  01/04/1972      78.1120\n",
       "4    11.503498  316.240194  01/05/1972      84.7636"
      ]
     },
     "execution_count": 10,
     "metadata": {},
     "output_type": "execute_result"
    }
   ],
   "source": [
    "final_data.head()"
   ]
  },
  {
   "cell_type": "code",
   "execution_count": 11,
   "metadata": {},
   "outputs": [
    {
     "data": {
      "text/plain": [
       "10.0"
      ]
     },
     "execution_count": 11,
     "metadata": {},
     "output_type": "execute_result"
    }
   ],
   "source": [
    "min_rev=data['Revenue'].min()\n",
    "min_rev"
   ]
  },
  {
   "cell_type": "code",
   "execution_count": 12,
   "metadata": {},
   "outputs": [
    {
     "data": {
      "text/plain": [
       "1000.0"
      ]
     },
     "execution_count": 12,
     "metadata": {},
     "output_type": "execute_result"
    }
   ],
   "source": [
    "max_rev=data['Revenue'].max()\n",
    "max_rev"
   ]
  },
  {
   "cell_type": "code",
   "execution_count": 13,
   "metadata": {},
   "outputs": [
    {
     "data": {
      "image/png": "[encoded data removed]",
      "text/plain": [
       "<Figure size 432x288 with 1 Axes>"
      ]
     },
     "metadata": {
      "needs_background": "light"
     },
     "output_type": "display_data"
    }
   ],
   "source": [
    "# Add the linear regression equation and line to plot fot Temperature and Revenue\n",
    "x_axis=final_data.Temperature\n",
    "y_axis=final_data.Revenue\n",
    "(slope, intercept, rvalue, pvalue, stderr) = linregress(x_axis, y_axis)\n",
    "regress_values = x_axis * slope + intercept\n",
    "line_eq = \"y = \" + str(round(slope,2)) + \"x + \" + str(round(intercept,2))\n",
    "plt.scatter(x_axis, y_axis)\n",
    "plt.plot(x_axis,regress_values,\"r-\")\n",
    "plt.annotate(line_eq,(6,10),fontsize=15,color=\"red\")\n",
    "plt.xlabel(\"Temperature (Celsius)\")\n",
    "plt.ylabel(\"Revenue\")\n",
    "plt.title(\"Temperature Vs Revenue\")\n",
    "plt.xlim(0,50)\n",
    "plt.ylim(10,1100)\n",
    "plt.show()"
   ]
  },
  {
   "cell_type": "code",
   "execution_count": 14,
   "metadata": {},
   "outputs": [
    {
     "data": {
      "image/png": "[encoded data removed]",
      "text/plain": [
       "<Figure size 432x288 with 1 Axes>"
      ]
     },
     "metadata": {
      "needs_background": "light"
     },
     "output_type": "display_data"
    }
   ],
   "source": [
    "# Add the linear regression equation and line to plot fot Temperature and Consumption\n",
    "x_axis=final_data.Temperature\n",
    "y_axis=final_data.Consumption\n",
    "(slope, intercept, rvalue, pvalue, stderr) = linregress(x_axis, y_axis)\n",
    "regress_values = x_axis * slope + intercept\n",
    "line_eq = \"y = \" + str(round(slope,2)) + \"x + \" + str(round(intercept,2))\n",
    "plt.scatter(x_axis, y_axis)\n",
    "plt.plot(x_axis,regress_values,\"r-\")\n",
    "plt.annotate(line_eq,(6,10),fontsize=15,color=\"red\")\n",
    "plt.xlabel(\"Temperature\")\n",
    "plt.ylabel(\"Consumption\")\n",
    "plt.title(\"Temperature Vs Consumption\")\n",
    "plt.show()"
   ]
  },
  {
   "cell_type": "code",
   "execution_count": 15,
   "metadata": {},
   "outputs": [
    {
     "data": {
      "text/html": [
       "<div>\n",
       "<style scoped>\n",
       "    .dataframe tbody tr th:only-of-type {\n",
       "        vertical-align: middle;\n",
       "    }\n",
       "\n",
       "    .dataframe tbody tr th {\n",
       "        vertical-align: top;\n",
       "    }\n",
       "\n",
       "    .dataframe thead th {\n",
       "        text-align: right;\n",
       "    }\n",
       "</style>\n",
       "<table border=\"1\" class=\"dataframe\">\n",
       "  <thead>\n",
       "    <tr style=\"text-align: right;\">\n",
       "      <th></th>\n",
       "      <th>Temperature</th>\n",
       "      <th>Revenue</th>\n",
       "      <th>Date</th>\n",
       "      <th>Consumption</th>\n",
       "      <th>Month</th>\n",
       "    </tr>\n",
       "  </thead>\n",
       "  <tbody>\n",
       "    <tr>\n",
       "      <td>0</td>\n",
       "      <td>24.566884</td>\n",
       "      <td>534.799028</td>\n",
       "      <td>01/01/1972</td>\n",
       "      <td>59.9622</td>\n",
       "      <td>1</td>\n",
       "    </tr>\n",
       "    <tr>\n",
       "      <td>1</td>\n",
       "      <td>26.005191</td>\n",
       "      <td>625.190122</td>\n",
       "      <td>01/02/1972</td>\n",
       "      <td>67.0605</td>\n",
       "      <td>2</td>\n",
       "    </tr>\n",
       "    <tr>\n",
       "      <td>2</td>\n",
       "      <td>27.790554</td>\n",
       "      <td>660.632289</td>\n",
       "      <td>01/03/1972</td>\n",
       "      <td>74.2350</td>\n",
       "      <td>3</td>\n",
       "    </tr>\n",
       "    <tr>\n",
       "      <td>3</td>\n",
       "      <td>20.595335</td>\n",
       "      <td>487.706960</td>\n",
       "      <td>01/04/1972</td>\n",
       "      <td>78.1120</td>\n",
       "      <td>4</td>\n",
       "    </tr>\n",
       "    <tr>\n",
       "      <td>4</td>\n",
       "      <td>11.503498</td>\n",
       "      <td>316.240194</td>\n",
       "      <td>01/05/1972</td>\n",
       "      <td>84.7636</td>\n",
       "      <td>5</td>\n",
       "    </tr>\n",
       "  </tbody>\n",
       "</table>\n",
       "</div>"
      ],
      "text/plain": [
       "   Temperature     Revenue        Date  Consumption  Month\n",
       "0    24.566884  534.799028  01/01/1972      59.9622      1\n",
       "1    26.005191  625.190122  01/02/1972      67.0605      2\n",
       "2    27.790554  660.632289  01/03/1972      74.2350      3\n",
       "3    20.595335  487.706960  01/04/1972      78.1120      4\n",
       "4    11.503498  316.240194  01/05/1972      84.7636      5"
      ]
     },
     "execution_count": 15,
     "metadata": {},
     "output_type": "execute_result"
    }
   ],
   "source": [
    "final_data['Month']=final_data['Date'].str.split('/').str[1].astype(int)\n",
    "final_data.head()"
   ]
  },
  {
   "cell_type": "code",
   "execution_count": 16,
   "metadata": {},
   "outputs": [
    {
     "data": {
      "text/html": [
       "<div>\n",
       "<style scoped>\n",
       "    .dataframe tbody tr th:only-of-type {\n",
       "        vertical-align: middle;\n",
       "    }\n",
       "\n",
       "    .dataframe tbody tr th {\n",
       "        vertical-align: top;\n",
       "    }\n",
       "\n",
       "    .dataframe thead th {\n",
       "        text-align: right;\n",
       "    }\n",
       "</style>\n",
       "<table border=\"1\" class=\"dataframe\">\n",
       "  <thead>\n",
       "    <tr style=\"text-align: right;\">\n",
       "      <th></th>\n",
       "      <th>Temperature</th>\n",
       "      <th>Revenue</th>\n",
       "      <th>Date</th>\n",
       "      <th>Consumption</th>\n",
       "      <th>Month</th>\n",
       "    </tr>\n",
       "  </thead>\n",
       "  <tbody>\n",
       "    <tr>\n",
       "      <td>0</td>\n",
       "      <td>24.566884</td>\n",
       "      <td>534.799028</td>\n",
       "      <td>01/01/1972</td>\n",
       "      <td>59.9622</td>\n",
       "      <td>1</td>\n",
       "    </tr>\n",
       "    <tr>\n",
       "      <td>1</td>\n",
       "      <td>26.005191</td>\n",
       "      <td>625.190122</td>\n",
       "      <td>01/02/1972</td>\n",
       "      <td>67.0605</td>\n",
       "      <td>2</td>\n",
       "    </tr>\n",
       "    <tr>\n",
       "      <td>2</td>\n",
       "      <td>27.790554</td>\n",
       "      <td>660.632289</td>\n",
       "      <td>01/03/1972</td>\n",
       "      <td>74.2350</td>\n",
       "      <td>3</td>\n",
       "    </tr>\n",
       "    <tr>\n",
       "      <td>3</td>\n",
       "      <td>20.595335</td>\n",
       "      <td>487.706960</td>\n",
       "      <td>01/04/1972</td>\n",
       "      <td>78.1120</td>\n",
       "      <td>4</td>\n",
       "    </tr>\n",
       "    <tr>\n",
       "      <td>4</td>\n",
       "      <td>11.503498</td>\n",
       "      <td>316.240194</td>\n",
       "      <td>01/05/1972</td>\n",
       "      <td>84.7636</td>\n",
       "      <td>5</td>\n",
       "    </tr>\n",
       "  </tbody>\n",
       "</table>\n",
       "</div>"
      ],
      "text/plain": [
       "   Temperature     Revenue        Date  Consumption  Month\n",
       "0    24.566884  534.799028  01/01/1972      59.9622      1\n",
       "1    26.005191  625.190122  01/02/1972      67.0605      2\n",
       "2    27.790554  660.632289  01/03/1972      74.2350      3\n",
       "3    20.595335  487.706960  01/04/1972      78.1120      4\n",
       "4    11.503498  316.240194  01/05/1972      84.7636      5"
      ]
     },
     "execution_count": 16,
     "metadata": {},
     "output_type": "execute_result"
    }
   ],
   "source": [
    "final_data.head()"
   ]
  },
  {
   "cell_type": "code",
   "execution_count": 17,
   "metadata": {},
   "outputs": [
    {
     "data": {
      "text/plain": [
       "([<matplotlib.axis.XTick at 0x2228a81ae88>,\n",
       "  <matplotlib.axis.XTick at 0x2228a7dd148>,\n",
       "  <matplotlib.axis.XTick at 0x2228a7f2d48>,\n",
       "  <matplotlib.axis.XTick at 0x2228a84a248>,\n",
       "  <matplotlib.axis.XTick at 0x2228a84a948>,\n",
       "  <matplotlib.axis.XTick at 0x2228a84e288>,\n",
       "  <matplotlib.axis.XTick at 0x2228a84ea48>,\n",
       "  <matplotlib.axis.XTick at 0x2228a84ebc8>,\n",
       "  <matplotlib.axis.XTick at 0x2228a852408>,\n",
       "  <matplotlib.axis.XTick at 0x2228a852e48>,\n",
       "  <matplotlib.axis.XTick at 0x2228a856688>,\n",
       "  <matplotlib.axis.XTick at 0x2228a85c2c8>,\n",
       "  <matplotlib.axis.XTick at 0x2228a85c948>],\n",
       " <a list of 13 Text xticklabel objects>)"
      ]
     },
     "execution_count": 17,
     "metadata": {},
     "output_type": "execute_result"
    },
    {
     "data": {
      "image/png": "[encoded data removed]",
      "text/plain": [
       "<Figure size 432x288 with 1 Axes>"
      ]
     },
     "metadata": {
      "needs_background": "light"
     },
     "output_type": "display_data"
    }
   ],
   "source": [
    "# Add the linear regression equation and line to plot for Month and Consumption\n",
    "x_axis=final_data.Month\n",
    "y_axis=final_data.Consumption\n",
    "(slope, intercept, rvalue, pvalue, stderr) = linregress(x_axis, y_axis)\n",
    "regress_values = x_axis * slope + intercept\n",
    "line_eq = \"y = \" + str(round(slope,2)) + \"x + \" + str(round(intercept,2))\n",
    "plt.scatter(x_axis, y_axis)\n",
    "plt.plot(x_axis,regress_values,\"r-\")\n",
    "plt.annotate(line_eq,(6,10),fontsize=15,color=\"red\")\n",
    "plt.xlabel(\"Month\")\n",
    "plt.ylabel(\"Consumption\")\n",
    "plt.title(\"Month Vs Consumption\")\n",
    "plt.xticks(np.arange(13),(\"\",\"Jan\",\"Feb\",\"Mar\",\"Apr\",\"May\",\"Jun\",\"Jul\",\"Aug\",\"Sep\",\"Oct\",\"Nov\",\"Dec\"), rotation=20)\n"
   ]
  },
  {
   "cell_type": "code",
   "execution_count": 18,
   "metadata": {},
   "outputs": [
    {
     "data": {
      "text/plain": [
       "61.9418     1\n",
       "129.8794    1\n",
       "125.5563    1\n",
       "95.3665     1\n",
       "116.2802    1\n",
       "           ..\n",
       "61.0653     1\n",
       "182.6261    1\n",
       "100.0984    1\n",
       "91.2895     1\n",
       "101.3750    1\n",
       "Name: Consumption, Length: 500, dtype: int64"
      ]
     },
     "execution_count": 18,
     "metadata": {},
     "output_type": "execute_result"
    }
   ],
   "source": [
    "final_data['Consumption'].value_counts()"
   ]
  },
  {
   "cell_type": "markdown",
   "metadata": {},
   "source": [
    "Random Forest Regression\n",
    "------------------------------------------"
   ]
  },
  {
   "cell_type": "code",
   "execution_count": 19,
   "metadata": {},
   "outputs": [
    {
     "data": {
      "text/html": [
       "<div>\n",
       "<style scoped>\n",
       "    .dataframe tbody tr th:only-of-type {\n",
       "        vertical-align: middle;\n",
       "    }\n",
       "\n",
       "    .dataframe tbody tr th {\n",
       "        vertical-align: top;\n",
       "    }\n",
       "\n",
       "    .dataframe thead th {\n",
       "        text-align: right;\n",
       "    }\n",
       "</style>\n",
       "<table border=\"1\" class=\"dataframe\">\n",
       "  <thead>\n",
       "    <tr style=\"text-align: right;\">\n",
       "      <th></th>\n",
       "      <th>Temperature</th>\n",
       "      <th>Revenue</th>\n",
       "      <th>Date</th>\n",
       "      <th>Consumption</th>\n",
       "      <th>Month</th>\n",
       "    </tr>\n",
       "  </thead>\n",
       "  <tbody>\n",
       "    <tr>\n",
       "      <td>0</td>\n",
       "      <td>24.566884</td>\n",
       "      <td>534.799028</td>\n",
       "      <td>01/01/1972</td>\n",
       "      <td>59.9622</td>\n",
       "      <td>1</td>\n",
       "    </tr>\n",
       "    <tr>\n",
       "      <td>1</td>\n",
       "      <td>26.005191</td>\n",
       "      <td>625.190122</td>\n",
       "      <td>01/02/1972</td>\n",
       "      <td>67.0605</td>\n",
       "      <td>2</td>\n",
       "    </tr>\n",
       "    <tr>\n",
       "      <td>2</td>\n",
       "      <td>27.790554</td>\n",
       "      <td>660.632289</td>\n",
       "      <td>01/03/1972</td>\n",
       "      <td>74.2350</td>\n",
       "      <td>3</td>\n",
       "    </tr>\n",
       "    <tr>\n",
       "      <td>3</td>\n",
       "      <td>20.595335</td>\n",
       "      <td>487.706960</td>\n",
       "      <td>01/04/1972</td>\n",
       "      <td>78.1120</td>\n",
       "      <td>4</td>\n",
       "    </tr>\n",
       "    <tr>\n",
       "      <td>4</td>\n",
       "      <td>11.503498</td>\n",
       "      <td>316.240194</td>\n",
       "      <td>01/05/1972</td>\n",
       "      <td>84.7636</td>\n",
       "      <td>5</td>\n",
       "    </tr>\n",
       "    <tr>\n",
       "      <td>5</td>\n",
       "      <td>14.352514</td>\n",
       "      <td>367.940744</td>\n",
       "      <td>01/06/1972</td>\n",
       "      <td>100.5960</td>\n",
       "      <td>6</td>\n",
       "    </tr>\n",
       "    <tr>\n",
       "      <td>6</td>\n",
       "      <td>13.707780</td>\n",
       "      <td>308.894518</td>\n",
       "      <td>01/07/1972</td>\n",
       "      <td>100.1263</td>\n",
       "      <td>7</td>\n",
       "    </tr>\n",
       "    <tr>\n",
       "      <td>7</td>\n",
       "      <td>30.833985</td>\n",
       "      <td>696.716640</td>\n",
       "      <td>01/08/1972</td>\n",
       "      <td>96.3607</td>\n",
       "      <td>8</td>\n",
       "    </tr>\n",
       "    <tr>\n",
       "      <td>8</td>\n",
       "      <td>0.976870</td>\n",
       "      <td>55.390338</td>\n",
       "      <td>01/09/1972</td>\n",
       "      <td>85.8007</td>\n",
       "      <td>9</td>\n",
       "    </tr>\n",
       "    <tr>\n",
       "      <td>9</td>\n",
       "      <td>31.669465</td>\n",
       "      <td>737.800824</td>\n",
       "      <td>01/10/1972</td>\n",
       "      <td>70.3934</td>\n",
       "      <td>10</td>\n",
       "    </tr>\n",
       "  </tbody>\n",
       "</table>\n",
       "</div>"
      ],
      "text/plain": [
       "   Temperature     Revenue        Date  Consumption  Month\n",
       "0    24.566884  534.799028  01/01/1972      59.9622      1\n",
       "1    26.005191  625.190122  01/02/1972      67.0605      2\n",
       "2    27.790554  660.632289  01/03/1972      74.2350      3\n",
       "3    20.595335  487.706960  01/04/1972      78.1120      4\n",
       "4    11.503498  316.240194  01/05/1972      84.7636      5\n",
       "5    14.352514  367.940744  01/06/1972     100.5960      6\n",
       "6    13.707780  308.894518  01/07/1972     100.1263      7\n",
       "7    30.833985  696.716640  01/08/1972      96.3607      8\n",
       "8     0.976870   55.390338  01/09/1972      85.8007      9\n",
       "9    31.669465  737.800824  01/10/1972      70.3934     10"
      ]
     },
     "execution_count": 19,
     "metadata": {},
     "output_type": "execute_result"
    }
   ],
   "source": [
    "# data preview\n",
    "final_data.head(10)"
   ]
  },
  {
   "cell_type": "code",
   "execution_count": 20,
   "metadata": {},
   "outputs": [],
   "source": [
    "# Assigning X and y values\n",
    "X = final_data['Temperature'].values\n",
    "y = final_data['Revenue'].values"
   ]
  },
  {
   "cell_type": "code",
   "execution_count": 21,
   "metadata": {},
   "outputs": [],
   "source": [
    "# Splitting the dataset into the Training set and Test set\n",
    "from sklearn.model_selection import train_test_split\n",
    "X_train, X_test, y_train, y_test = train_test_split(X, y, test_size = 0.50)"
   ]
  },
  {
   "cell_type": "code",
   "execution_count": 23,
   "metadata": {},
   "outputs": [
    {
     "name": "stderr",
     "output_type": "stream",
     "text": [
      "C:\\Users\\shweta shukla\\Anaconda3\\lib\\site-packages\\ipykernel_launcher.py:4: DataConversionWarning: A column-vector y was passed when a 1d array was expected. Please change the shape of y to (n_samples,), for example using ravel().\n",
      "  after removing the cwd from sys.path.\n"
     ]
    },
    {
     "data": {
      "text/plain": [
       "RandomForestRegressor(bootstrap=True, criterion='mse', max_depth=None,\n",
       "                      max_features='auto', max_leaf_nodes=None,\n",
       "                      min_impurity_decrease=0.0, min_impurity_split=None,\n",
       "                      min_samples_leaf=1, min_samples_split=2,\n",
       "                      min_weight_fraction_leaf=0.0, n_estimators=10,\n",
       "                      n_jobs=None, oob_score=False, random_state=42, verbose=0,\n",
       "                      warm_start=False)"
      ]
     },
     "execution_count": 23,
     "metadata": {},
     "output_type": "execute_result"
    }
   ],
   "source": [
    "# Fitting Random Forest Regression to the dataset\n",
    "from sklearn.ensemble import RandomForestRegressor\n",
    "regressor = RandomForestRegressor(n_estimators = 10, random_state = 42)\n",
    "regressor.fit(X_train.reshape(-1,1), y_train.reshape(-1,1))"
   ]
  },
  {
   "cell_type": "code",
   "execution_count": 24,
   "metadata": {},
   "outputs": [
    {
     "data": {
      "text/plain": [
       "array([223.32458237, 253.63014048, 411.1961093 , 519.21437616,\n",
       "       618.60568605, 533.77379316, 640.07689223, 190.41147266,\n",
       "       476.0035282 , 591.11267302, 529.81844608, 243.57252693,\n",
       "       641.61403794, 461.11048811, 581.02661066, 417.35565252,\n",
       "       354.71153466, 539.89608144, 668.77897706, 382.61818483,\n",
       "       407.60870947, 572.43381561, 545.64411506, 572.32678778,\n",
       "       461.37434319, 699.22767204, 767.66750094, 425.28679438,\n",
       "       614.02307019, 406.17365699, 446.47547263, 887.15893622,\n",
       "       446.47547263, 425.33788766, 908.45785888, 295.3679661 ,\n",
       "       623.97865726, 499.56365629, 887.15893622, 750.80939184,\n",
       "       297.01863542, 539.89608144, 887.15893622, 608.69693413,\n",
       "       341.5843759 , 541.00580401, 588.65623162, 253.63014048,\n",
       "       640.10076022, 567.30695454, 671.43326048, 355.08000617,\n",
       "       541.88792291, 494.96294223, 451.78498692, 869.2668361 ,\n",
       "       547.93439104, 589.53340411, 475.24666208, 871.76064116,\n",
       "       529.72788094, 312.4620586 , 451.78498692, 869.2668361 ,\n",
       "       400.35776258, 295.3679661 , 629.59557782, 461.11048811,\n",
       "       643.15133847, 410.85937255, 253.63014048, 632.84044374,\n",
       "       614.02307019, 476.29555545, 280.34454769, 451.78498692,\n",
       "       365.60216141, 405.53812817, 805.43282567, 572.43381561,\n",
       "       340.78531755, 253.63014048, 486.76649674, 449.92579005,\n",
       "       635.79202418, 584.80920082, 633.28543151, 608.6034783 ,\n",
       "       533.77379316, 537.66171803, 466.50005568, 587.87356501,\n",
       "       589.53340411, 438.14388438, 758.03458703, 648.02720213,\n",
       "       475.24666208, 641.61403794, 710.03954575, 573.72265366,\n",
       "       513.09356564, 452.12597645, 519.17031538, 394.55011961,\n",
       "       668.77897706, 747.47116145, 390.28409024, 664.90122957,\n",
       "       644.32937778, 871.76064116, 422.21543426, 280.34454769,\n",
       "       462.15441783, 589.53340411, 304.3686527 , 591.42759285,\n",
       "       410.14393419, 269.52313618, 452.12597645, 452.00100032,\n",
       "       641.61403794, 406.23623408, 644.56917908, 397.86648469,\n",
       "       623.97865726, 668.77897706, 119.15738953, 331.83455975,\n",
       "       295.3679661 , 658.69480816, 383.59445824, 637.17480464,\n",
       "       589.53340411, 516.07775981, 375.92012718, 506.94419413,\n",
       "       695.34255942, 792.65407932, 268.3999594 , 360.07556858,\n",
       "       644.32937778, 408.14503968, 400.35776258, 610.85608989,\n",
       "       792.65407932, 334.80629355, 513.16831159, 623.26739286,\n",
       "       453.7677617 , 227.43571539, 543.55142237, 792.65407932,\n",
       "       887.15893622, 819.72233336, 541.88923329, 353.11404567,\n",
       "       573.72265366, 400.35776258, 572.32678778, 516.07775981,\n",
       "       639.67234205, 572.3880584 , 508.4554328 , 529.72788094,\n",
       "       734.08695228, 494.96294223, 572.43381561, 581.04839746,\n",
       "       476.51571526, 968.57559859, 605.32965172, 602.61308599,\n",
       "       508.27241297, 562.64018872, 644.09612913, 493.38538781,\n",
       "       533.77379316, 758.03458703, 545.64411506, 592.52226902,\n",
       "       814.97798606, 640.07689223, 214.70350096, 476.73289504,\n",
       "       668.05629622, 433.84069872, 690.02076515, 549.54359575,\n",
       "       277.03249516, 529.72788094, 450.34626098, 461.37434319,\n",
       "       502.26875078, 253.63014048, 591.11267302, 591.11267302,\n",
       "       425.05683243, 421.31062416, 461.37434319, 253.63014048,\n",
       "       486.76649674, 476.73289504, 212.11784784, 443.95853644,\n",
       "       654.4732558 , 592.52226902, 333.04765782, 485.36218468,\n",
       "       476.73289504, 295.3679661 , 288.72376385, 562.64018872,\n",
       "       214.70350096, 573.72265366, 668.77897706, 732.97543407,\n",
       "       871.76064116, 739.7710328 , 668.2743729 , 443.95853644,\n",
       "       639.67234205, 511.01571491, 732.97543407, 333.04765782,\n",
       "       736.78478886, 623.26739286, 529.81844608, 615.47607667,\n",
       "       760.2886643 , 480.00065808, 426.53484113, 645.34564034,\n",
       "       495.92912343, 397.58803976, 668.05629622, 745.41157227,\n",
       "       552.02921344, 643.15133847, 638.09713352, 443.95853644,\n",
       "       189.38210764, 602.61308599, 300.76750524, 641.61403794,\n",
       "       552.83700528, 397.58803976, 480.00065808, 312.4620586 ,\n",
       "       314.21506965, 584.80920082])"
      ]
     },
     "execution_count": 24,
     "metadata": {},
     "output_type": "execute_result"
    }
   ],
   "source": [
    "# Predicting the Results\n",
    "y_pred = regressor.predict(X_test.reshape(-1,1))\n",
    "y_pred"
   ]
  },
  {
   "cell_type": "code",
   "execution_count": 25,
   "metadata": {},
   "outputs": [
    {
     "data": {
      "text/html": [
       "<div>\n",
       "<style scoped>\n",
       "    .dataframe tbody tr th:only-of-type {\n",
       "        vertical-align: middle;\n",
       "    }\n",
       "\n",
       "    .dataframe tbody tr th {\n",
       "        vertical-align: top;\n",
       "    }\n",
       "\n",
       "    .dataframe thead th {\n",
       "        text-align: right;\n",
       "    }\n",
       "</style>\n",
       "<table border=\"1\" class=\"dataframe\">\n",
       "  <thead>\n",
       "    <tr style=\"text-align: right;\">\n",
       "      <th></th>\n",
       "      <th>Real Values</th>\n",
       "      <th>Predicted Values</th>\n",
       "    </tr>\n",
       "  </thead>\n",
       "  <tbody>\n",
       "    <tr>\n",
       "      <td>0</td>\n",
       "      <td>241.278548</td>\n",
       "      <td>223.324582</td>\n",
       "    </tr>\n",
       "    <tr>\n",
       "      <td>1</td>\n",
       "      <td>273.073342</td>\n",
       "      <td>253.630140</td>\n",
       "    </tr>\n",
       "    <tr>\n",
       "      <td>2</td>\n",
       "      <td>441.508733</td>\n",
       "      <td>411.196109</td>\n",
       "    </tr>\n",
       "    <tr>\n",
       "      <td>3</td>\n",
       "      <td>571.764273</td>\n",
       "      <td>519.214376</td>\n",
       "    </tr>\n",
       "    <tr>\n",
       "      <td>4</td>\n",
       "      <td>640.177059</td>\n",
       "      <td>618.605686</td>\n",
       "    </tr>\n",
       "    <tr>\n",
       "      <td>...</td>\n",
       "      <td>...</td>\n",
       "      <td>...</td>\n",
       "    </tr>\n",
       "    <tr>\n",
       "      <td>245</td>\n",
       "      <td>401.433018</td>\n",
       "      <td>397.588040</td>\n",
       "    </tr>\n",
       "    <tr>\n",
       "      <td>246</td>\n",
       "      <td>456.524341</td>\n",
       "      <td>480.000658</td>\n",
       "    </tr>\n",
       "    <tr>\n",
       "      <td>247</td>\n",
       "      <td>278.418265</td>\n",
       "      <td>312.462059</td>\n",
       "    </tr>\n",
       "    <tr>\n",
       "      <td>248</td>\n",
       "      <td>325.968408</td>\n",
       "      <td>314.215070</td>\n",
       "    </tr>\n",
       "    <tr>\n",
       "      <td>249</td>\n",
       "      <td>572.537048</td>\n",
       "      <td>584.809201</td>\n",
       "    </tr>\n",
       "  </tbody>\n",
       "</table>\n",
       "<p>250 rows × 2 columns</p>\n",
       "</div>"
      ],
      "text/plain": [
       "     Real Values  Predicted Values\n",
       "0     241.278548        223.324582\n",
       "1     273.073342        253.630140\n",
       "2     441.508733        411.196109\n",
       "3     571.764273        519.214376\n",
       "4     640.177059        618.605686\n",
       "..           ...               ...\n",
       "245   401.433018        397.588040\n",
       "246   456.524341        480.000658\n",
       "247   278.418265        312.462059\n",
       "248   325.968408        314.215070\n",
       "249   572.537048        584.809201\n",
       "\n",
       "[250 rows x 2 columns]"
      ]
     },
     "execution_count": 25,
     "metadata": {},
     "output_type": "execute_result"
    }
   ],
   "source": [
    "# Comparing the Real Values with Predicted Values\n",
    "df = pd.DataFrame({'Real Values':y_test.reshape(-1), 'Predicted Values':y_pred.reshape(-1)})\n",
    "df"
   ]
  },
  {
   "cell_type": "code",
   "execution_count": 26,
   "metadata": {},
   "outputs": [
    {
     "data": {
      "image/png": "[encoded data removed]",
      "text/plain": [
       "<Figure size 432x288 with 1 Axes>"
      ]
     },
     "metadata": {
      "needs_background": "light"
     },
     "output_type": "display_data"
    }
   ],
   "source": [
    "# Visualising the Random Forest Regression Results\n",
    "X_grid = np.arange(min(X), max(X), 0.01)\n",
    "X_grid = X_grid.reshape((len(X_grid), 1))\n",
    "plt.scatter(X_test, y_test, color = 'blue')\n",
    "plt.scatter(X_test, y_pred, color = 'teal')\n",
    "plt.title('Random Forest Regression')\n",
    "plt.xlabel('Temperature')\n",
    "plt.ylabel('Revenue')\n",
    "plt.show()"
   ]
  },
  {
   "cell_type": "code",
   "execution_count": 27,
   "metadata": {},
   "outputs": [
    {
     "data": {
      "image/png": "[encoded data removed]",
      "text/plain": [
       "<Figure size 432x288 with 1 Axes>"
      ]
     },
     "metadata": {
      "needs_background": "light"
     },
     "output_type": "display_data"
    }
   ],
   "source": [
    "# Visualising the Random Forest Regression Results\n",
    "plt.plot(X_grid, regressor.predict(X_grid), color = 'brown')\n",
    "plt.title('Random Forest Regression')\n",
    "plt.xlabel('Temperature')\n",
    "plt.ylabel('Revenue')\n",
    "plt.show()"
   ]
  },
  {
   "cell_type": "code",
   "execution_count": 28,
   "metadata": {},
   "outputs": [
    {
     "data": {
      "text/plain": [
       "array([506.03928859])"
      ]
     },
     "execution_count": 28,
     "metadata": {},
     "output_type": "execute_result"
    }
   ],
   "source": [
    "# Predicting revenue at a given temperature\n",
    "T = 20\n",
    "Revenue = regressor.predict([[T]])\n",
    "Revenue"
   ]
  },
  {
   "cell_type": "code",
   "execution_count": null,
   "metadata": {},
   "outputs": [],
   "source": []
  }
 ],
 "metadata": {
  "kernelspec": {
   "display_name": "Python 3",
   "language": "python",
   "name": "python3"
  },
  "language_info": {
   "codemirror_mode": {
    "name": "ipython",
    "version": 3
   },
   "file_extension": ".py",
   "mimetype": "text/x-python",
   "name": "python",
   "nbconvert_exporter": "python",
   "pygments_lexer": "ipython3",
   "version": "3.7.4"
  }
 },
 "nbformat": 4,
 "nbformat_minor": 4
}
