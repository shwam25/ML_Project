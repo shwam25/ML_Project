{
 "cells": [
  {
   "cell_type": "code",
   "execution_count": 11,
   "metadata": {},
   "outputs": [],
   "source": [
    "import pandas as pd\n",
    "import numpy as np\n",
    "import matplotlib.pyplot as plt"
   ]
  },
  {
   "cell_type": "code",
   "execution_count": 12,
   "metadata": {},
   "outputs": [],
   "source": [
    "file_one = \"Resources\\Data1.csv\"\n",
    "file_two = \"Resources\\Data2.csv\""
   ]
  },
  {
   "cell_type": "code",
   "execution_count": 13,
   "metadata": {},
   "outputs": [],
   "source": [
    "file_one_df = pd.read_csv(file_one, encoding=\"ISO-8859-1\")\n",
    "file_two_df = pd.read_csv(file_two, encoding=\"ISO-8859-1\")"
   ]
  },
  {
   "cell_type": "code",
   "execution_count": null,
   "metadata": {},
   "outputs": [],
   "source": []
  },
  {
   "cell_type": "code",
   "execution_count": 14,
   "metadata": {},
   "outputs": [
    {
     "data": {
      "text/html": [
       "<div>\n",
       "<style scoped>\n",
       "    .dataframe tbody tr th:only-of-type {\n",
       "        vertical-align: middle;\n",
       "    }\n",
       "\n",
       "    .dataframe tbody tr th {\n",
       "        vertical-align: top;\n",
       "    }\n",
       "\n",
       "    .dataframe thead th {\n",
       "        text-align: right;\n",
       "    }\n",
       "</style>\n",
       "<table border=\"1\" class=\"dataframe\">\n",
       "  <thead>\n",
       "    <tr style=\"text-align: right;\">\n",
       "      <th></th>\n",
       "      <th>Temperature</th>\n",
       "      <th>Revenue</th>\n",
       "      <th>DATE</th>\n",
       "    </tr>\n",
       "  </thead>\n",
       "  <tbody>\n",
       "    <tr>\n",
       "      <td>0</td>\n",
       "      <td>24.566884</td>\n",
       "      <td>534.799028</td>\n",
       "      <td>01/01/1972</td>\n",
       "    </tr>\n",
       "    <tr>\n",
       "      <td>1</td>\n",
       "      <td>26.005191</td>\n",
       "      <td>625.190122</td>\n",
       "      <td>01/02/1972</td>\n",
       "    </tr>\n",
       "    <tr>\n",
       "      <td>2</td>\n",
       "      <td>27.790554</td>\n",
       "      <td>660.632289</td>\n",
       "      <td>01/03/1972</td>\n",
       "    </tr>\n",
       "    <tr>\n",
       "      <td>3</td>\n",
       "      <td>20.595335</td>\n",
       "      <td>487.706960</td>\n",
       "      <td>01/04/1972</td>\n",
       "    </tr>\n",
       "    <tr>\n",
       "      <td>4</td>\n",
       "      <td>11.503498</td>\n",
       "      <td>316.240194</td>\n",
       "      <td>01/05/1972</td>\n",
       "    </tr>\n",
       "  </tbody>\n",
       "</table>\n",
       "</div>"
      ],
      "text/plain": [
       "   Temperature     Revenue        DATE\n",
       "0    24.566884  534.799028  01/01/1972\n",
       "1    26.005191  625.190122  01/02/1972\n",
       "2    27.790554  660.632289  01/03/1972\n",
       "3    20.595335  487.706960  01/04/1972\n",
       "4    11.503498  316.240194  01/05/1972"
      ]
     },
     "execution_count": 14,
     "metadata": {},
     "output_type": "execute_result"
    }
   ],
   "source": [
    "file_one_df[\"DATE\"]=file_two_df[\"DATE\"]\n",
    "file_one_df.head()\n"
   ]
  },
  {
   "cell_type": "code",
   "execution_count": 15,
   "metadata": {},
   "outputs": [
    {
     "data": {
      "text/html": [
       "<div>\n",
       "<style scoped>\n",
       "    .dataframe tbody tr th:only-of-type {\n",
       "        vertical-align: middle;\n",
       "    }\n",
       "\n",
       "    .dataframe tbody tr th {\n",
       "        vertical-align: top;\n",
       "    }\n",
       "\n",
       "    .dataframe thead th {\n",
       "        text-align: right;\n",
       "    }\n",
       "</style>\n",
       "<table border=\"1\" class=\"dataframe\">\n",
       "  <thead>\n",
       "    <tr style=\"text-align: right;\">\n",
       "      <th></th>\n",
       "      <th>Temperature</th>\n",
       "      <th>Revenue</th>\n",
       "      <th>DATE</th>\n",
       "      <th>value</th>\n",
       "    </tr>\n",
       "  </thead>\n",
       "  <tbody>\n",
       "    <tr>\n",
       "      <td>0</td>\n",
       "      <td>24.566884</td>\n",
       "      <td>534.799028</td>\n",
       "      <td>01/01/1972</td>\n",
       "      <td>59.9622</td>\n",
       "    </tr>\n",
       "    <tr>\n",
       "      <td>1</td>\n",
       "      <td>26.005191</td>\n",
       "      <td>625.190122</td>\n",
       "      <td>01/02/1972</td>\n",
       "      <td>67.0605</td>\n",
       "    </tr>\n",
       "    <tr>\n",
       "      <td>2</td>\n",
       "      <td>27.790554</td>\n",
       "      <td>660.632289</td>\n",
       "      <td>01/03/1972</td>\n",
       "      <td>74.2350</td>\n",
       "    </tr>\n",
       "    <tr>\n",
       "      <td>3</td>\n",
       "      <td>20.595335</td>\n",
       "      <td>487.706960</td>\n",
       "      <td>01/04/1972</td>\n",
       "      <td>78.1120</td>\n",
       "    </tr>\n",
       "    <tr>\n",
       "      <td>4</td>\n",
       "      <td>11.503498</td>\n",
       "      <td>316.240194</td>\n",
       "      <td>01/05/1972</td>\n",
       "      <td>84.7636</td>\n",
       "    </tr>\n",
       "  </tbody>\n",
       "</table>\n",
       "</div>"
      ],
      "text/plain": [
       "   Temperature     Revenue        DATE    value\n",
       "0    24.566884  534.799028  01/01/1972  59.9622\n",
       "1    26.005191  625.190122  01/02/1972  67.0605\n",
       "2    27.790554  660.632289  01/03/1972  74.2350\n",
       "3    20.595335  487.706960  01/04/1972  78.1120\n",
       "4    11.503498  316.240194  01/05/1972  84.7636"
      ]
     },
     "execution_count": 15,
     "metadata": {},
     "output_type": "execute_result"
    }
   ],
   "source": [
    "file_one_df[\"value\"]=file_two_df[\"value\"]\n",
    "file_one_df.head()"
   ]
  },
  {
   "cell_type": "code",
   "execution_count": 16,
   "metadata": {},
   "outputs": [],
   "source": [
    "data=file_one_df"
   ]
  },
  {
   "cell_type": "code",
   "execution_count": 17,
   "metadata": {},
   "outputs": [
    {
     "data": {
      "text/html": [
       "<div>\n",
       "<style scoped>\n",
       "    .dataframe tbody tr th:only-of-type {\n",
       "        vertical-align: middle;\n",
       "    }\n",
       "\n",
       "    .dataframe tbody tr th {\n",
       "        vertical-align: top;\n",
       "    }\n",
       "\n",
       "    .dataframe thead th {\n",
       "        text-align: right;\n",
       "    }\n",
       "</style>\n",
       "<table border=\"1\" class=\"dataframe\">\n",
       "  <thead>\n",
       "    <tr style=\"text-align: right;\">\n",
       "      <th></th>\n",
       "      <th>Temperature</th>\n",
       "      <th>Revenue</th>\n",
       "      <th>Date</th>\n",
       "      <th>Consumption (Million Gallons)</th>\n",
       "    </tr>\n",
       "  </thead>\n",
       "  <tbody>\n",
       "    <tr>\n",
       "      <td>0</td>\n",
       "      <td>24.566884</td>\n",
       "      <td>534.799028</td>\n",
       "      <td>01/01/1972</td>\n",
       "      <td>59.9622</td>\n",
       "    </tr>\n",
       "    <tr>\n",
       "      <td>1</td>\n",
       "      <td>26.005191</td>\n",
       "      <td>625.190122</td>\n",
       "      <td>01/02/1972</td>\n",
       "      <td>67.0605</td>\n",
       "    </tr>\n",
       "    <tr>\n",
       "      <td>2</td>\n",
       "      <td>27.790554</td>\n",
       "      <td>660.632289</td>\n",
       "      <td>01/03/1972</td>\n",
       "      <td>74.2350</td>\n",
       "    </tr>\n",
       "    <tr>\n",
       "      <td>3</td>\n",
       "      <td>20.595335</td>\n",
       "      <td>487.706960</td>\n",
       "      <td>01/04/1972</td>\n",
       "      <td>78.1120</td>\n",
       "    </tr>\n",
       "    <tr>\n",
       "      <td>4</td>\n",
       "      <td>11.503498</td>\n",
       "      <td>316.240194</td>\n",
       "      <td>01/05/1972</td>\n",
       "      <td>84.7636</td>\n",
       "    </tr>\n",
       "    <tr>\n",
       "      <td>...</td>\n",
       "      <td>...</td>\n",
       "      <td>...</td>\n",
       "      <td>...</td>\n",
       "      <td>...</td>\n",
       "    </tr>\n",
       "    <tr>\n",
       "      <td>495</td>\n",
       "      <td>22.274899</td>\n",
       "      <td>524.746364</td>\n",
       "      <td>01/04/2013</td>\n",
       "      <td>107.9098</td>\n",
       "    </tr>\n",
       "    <tr>\n",
       "      <td>496</td>\n",
       "      <td>32.893092</td>\n",
       "      <td>755.818399</td>\n",
       "      <td>01/05/2013</td>\n",
       "      <td>110.9130</td>\n",
       "    </tr>\n",
       "    <tr>\n",
       "      <td>497</td>\n",
       "      <td>12.588157</td>\n",
       "      <td>306.090719</td>\n",
       "      <td>01/06/2013</td>\n",
       "      <td>128.6909</td>\n",
       "    </tr>\n",
       "    <tr>\n",
       "      <td>498</td>\n",
       "      <td>22.362402</td>\n",
       "      <td>566.217304</td>\n",
       "      <td>01/07/2013</td>\n",
       "      <td>112.3692</td>\n",
       "    </tr>\n",
       "    <tr>\n",
       "      <td>499</td>\n",
       "      <td>28.957736</td>\n",
       "      <td>655.660388</td>\n",
       "      <td>01/08/2013</td>\n",
       "      <td>106.0546</td>\n",
       "    </tr>\n",
       "  </tbody>\n",
       "</table>\n",
       "<p>500 rows × 4 columns</p>\n",
       "</div>"
      ],
      "text/plain": [
       "     Temperature     Revenue        Date  Consumption (Million Gallons)\n",
       "0      24.566884  534.799028  01/01/1972                        59.9622\n",
       "1      26.005191  625.190122  01/02/1972                        67.0605\n",
       "2      27.790554  660.632289  01/03/1972                        74.2350\n",
       "3      20.595335  487.706960  01/04/1972                        78.1120\n",
       "4      11.503498  316.240194  01/05/1972                        84.7636\n",
       "..           ...         ...         ...                            ...\n",
       "495    22.274899  524.746364  01/04/2013                       107.9098\n",
       "496    32.893092  755.818399  01/05/2013                       110.9130\n",
       "497    12.588157  306.090719  01/06/2013                       128.6909\n",
       "498    22.362402  566.217304  01/07/2013                       112.3692\n",
       "499    28.957736  655.660388  01/08/2013                       106.0546\n",
       "\n",
       "[500 rows x 4 columns]"
      ]
     },
     "execution_count": 17,
     "metadata": {},
     "output_type": "execute_result"
    }
   ],
   "source": [
    "data.rename(columns={\"DATE\": \"Date\", \"value\": \"Consumption (Million Gallons)\"})"
   ]
  },
  {
   "cell_type": "code",
   "execution_count": 18,
   "metadata": {},
   "outputs": [],
   "source": [
    "x_axis=data.Temperature\n",
    "y_axis=data.Revenue"
   ]
  },
  {
   "cell_type": "code",
   "execution_count": 19,
   "metadata": {},
   "outputs": [
    {
     "data": {
      "text/plain": [
       "<matplotlib.collections.PathCollection at 0x1744bbc1c88>"
      ]
     },
     "execution_count": 19,
     "metadata": {},
     "output_type": "execute_result"
    },
    {
     "data": {
      "image/png": "[encoded data removed]",
      "text/plain": [
       "<Figure size 432x288 with 1 Axes>"
      ]
     },
     "metadata": {
      "needs_background": "light"
     },
     "output_type": "display_data"
    }
   ],
   "source": [
    "plt.scatter(x_axis, y_axis)\n"
   ]
  },
  {
   "cell_type": "markdown",
   "metadata": {},
   "source": [
    "Random Forest Classifier\n",
    "------------------------------------------"
   ]
  },
  {
   "cell_type": "code",
   "execution_count": 21,
   "metadata": {},
   "outputs": [
    {
     "data": {
      "text/html": [
       "<div>\n",
       "<style scoped>\n",
       "    .dataframe tbody tr th:only-of-type {\n",
       "        vertical-align: middle;\n",
       "    }\n",
       "\n",
       "    .dataframe tbody tr th {\n",
       "        vertical-align: top;\n",
       "    }\n",
       "\n",
       "    .dataframe thead th {\n",
       "        text-align: right;\n",
       "    }\n",
       "</style>\n",
       "<table border=\"1\" class=\"dataframe\">\n",
       "  <thead>\n",
       "    <tr style=\"text-align: right;\">\n",
       "      <th></th>\n",
       "      <th>Temperature</th>\n",
       "      <th>Revenue</th>\n",
       "      <th>DATE</th>\n",
       "      <th>value</th>\n",
       "    </tr>\n",
       "  </thead>\n",
       "  <tbody>\n",
       "    <tr>\n",
       "      <td>0</td>\n",
       "      <td>24.566884</td>\n",
       "      <td>534.799028</td>\n",
       "      <td>01/01/1972</td>\n",
       "      <td>59.9622</td>\n",
       "    </tr>\n",
       "    <tr>\n",
       "      <td>1</td>\n",
       "      <td>26.005191</td>\n",
       "      <td>625.190122</td>\n",
       "      <td>01/02/1972</td>\n",
       "      <td>67.0605</td>\n",
       "    </tr>\n",
       "    <tr>\n",
       "      <td>2</td>\n",
       "      <td>27.790554</td>\n",
       "      <td>660.632289</td>\n",
       "      <td>01/03/1972</td>\n",
       "      <td>74.2350</td>\n",
       "    </tr>\n",
       "    <tr>\n",
       "      <td>3</td>\n",
       "      <td>20.595335</td>\n",
       "      <td>487.706960</td>\n",
       "      <td>01/04/1972</td>\n",
       "      <td>78.1120</td>\n",
       "    </tr>\n",
       "    <tr>\n",
       "      <td>4</td>\n",
       "      <td>11.503498</td>\n",
       "      <td>316.240194</td>\n",
       "      <td>01/05/1972</td>\n",
       "      <td>84.7636</td>\n",
       "    </tr>\n",
       "    <tr>\n",
       "      <td>5</td>\n",
       "      <td>14.352514</td>\n",
       "      <td>367.940744</td>\n",
       "      <td>01/06/1972</td>\n",
       "      <td>100.5960</td>\n",
       "    </tr>\n",
       "    <tr>\n",
       "      <td>6</td>\n",
       "      <td>13.707780</td>\n",
       "      <td>308.894518</td>\n",
       "      <td>01/07/1972</td>\n",
       "      <td>100.1263</td>\n",
       "    </tr>\n",
       "    <tr>\n",
       "      <td>7</td>\n",
       "      <td>30.833985</td>\n",
       "      <td>696.716640</td>\n",
       "      <td>01/08/1972</td>\n",
       "      <td>96.3607</td>\n",
       "    </tr>\n",
       "    <tr>\n",
       "      <td>8</td>\n",
       "      <td>0.976870</td>\n",
       "      <td>55.390338</td>\n",
       "      <td>01/09/1972</td>\n",
       "      <td>85.8007</td>\n",
       "    </tr>\n",
       "    <tr>\n",
       "      <td>9</td>\n",
       "      <td>31.669465</td>\n",
       "      <td>737.800824</td>\n",
       "      <td>01/10/1972</td>\n",
       "      <td>70.3934</td>\n",
       "    </tr>\n",
       "  </tbody>\n",
       "</table>\n",
       "</div>"
      ],
      "text/plain": [
       "   Temperature     Revenue        DATE     value\n",
       "0    24.566884  534.799028  01/01/1972   59.9622\n",
       "1    26.005191  625.190122  01/02/1972   67.0605\n",
       "2    27.790554  660.632289  01/03/1972   74.2350\n",
       "3    20.595335  487.706960  01/04/1972   78.1120\n",
       "4    11.503498  316.240194  01/05/1972   84.7636\n",
       "5    14.352514  367.940744  01/06/1972  100.5960\n",
       "6    13.707780  308.894518  01/07/1972  100.1263\n",
       "7    30.833985  696.716640  01/08/1972   96.3607\n",
       "8     0.976870   55.390338  01/09/1972   85.8007\n",
       "9    31.669465  737.800824  01/10/1972   70.3934"
      ]
     },
     "execution_count": 21,
     "metadata": {},
     "output_type": "execute_result"
    }
   ],
   "source": [
    "# data preview\n",
    "data.head(10)"
   ]
  },
  {
   "cell_type": "code",
   "execution_count": 22,
   "metadata": {},
   "outputs": [],
   "source": [
    "# Assigning X and y values\n",
    "X = data['Temperature'].values\n",
    "y = data['Revenue'].values"
   ]
  },
  {
   "cell_type": "code",
   "execution_count": 23,
   "metadata": {},
   "outputs": [],
   "source": [
    "# Splitting the dataset into the Training set and Test set\n",
    "from sklearn.model_selection import train_test_split\n",
    "X_train, X_test, y_train, y_test = train_test_split(X, y, test_size = 0.50)"
   ]
  },
  {
   "cell_type": "code",
   "execution_count": 32,
   "metadata": {},
   "outputs": [
    {
     "name": "stderr",
     "output_type": "stream",
     "text": [
      "C:\\Users\\shweta shukla\\Anaconda3\\lib\\site-packages\\ipykernel_launcher.py:4: DataConversionWarning: A column-vector y was passed when a 1d array was expected. Please change the shape of y to (n_samples,), for example using ravel().\n",
      "  after removing the cwd from sys.path.\n"
     ]
    },
    {
     "data": {
      "text/plain": [
       "RandomForestRegressor(bootstrap=True, criterion='mse', max_depth=None,\n",
       "                      max_features='auto', max_leaf_nodes=None,\n",
       "                      min_impurity_decrease=0.0, min_impurity_split=None,\n",
       "                      min_samples_leaf=1, min_samples_split=2,\n",
       "                      min_weight_fraction_leaf=0.0, n_estimators=10,\n",
       "                      n_jobs=None, oob_score=False, random_state=42, verbose=0,\n",
       "                      warm_start=False)"
      ]
     },
     "execution_count": 32,
     "metadata": {},
     "output_type": "execute_result"
    }
   ],
   "source": [
    "# Fitting Random Forest Regression to the dataset\n",
    "from sklearn.ensemble import RandomForestRegressor\n",
    "regressor = RandomForestRegressor(n_estimators = 10, random_state = 42)\n",
    "regressor.fit(X_train.reshape(-1,1), y_train.reshape(-1,1))"
   ]
  },
  {
   "cell_type": "code",
   "execution_count": 25,
   "metadata": {},
   "outputs": [
    {
     "data": {
      "text/plain": [
       "array([564.3907967 , 899.79964884, 334.56998864, 334.77111235,\n",
       "       381.58020043, 546.15151474, 708.26428166, 458.68995552,\n",
       "       780.38066592, 265.12753618, 240.92446848, 444.91995406,\n",
       "       585.00504512, 367.2846151 , 425.50752686, 622.48195104,\n",
       "       495.6400325 , 806.59313027, 292.77274318, 610.34056415,\n",
       "       132.16850172, 319.05608533, 510.90231108, 580.77888107,\n",
       "       319.05608533, 462.81185336, 183.38909345, 551.85651544,\n",
       "       510.90231108, 537.36152333, 464.40972482, 369.41790714,\n",
       "       517.63431888, 334.56998864, 365.77683988, 381.58020043,\n",
       "       627.5236783 , 639.73031851, 580.52724323, 496.84222776,\n",
       "       452.91597849, 208.26819037, 631.17851875, 830.37511947,\n",
       "       278.33850798, 390.49778729, 574.9019988 , 830.37511947,\n",
       "       445.88065347, 376.0171796 , 384.90214177, 806.59313027,\n",
       "       510.90231108, 317.05025221, 617.67949892, 679.1478697 ,\n",
       "       364.23970306, 631.17851875, 493.25606882, 529.07605232,\n",
       "       691.59553412, 641.87473769, 631.25193011, 702.43844615,\n",
       "       611.55946012, 367.2846151 , 807.48770575, 258.55572578,\n",
       "       541.11681564, 334.56998864, 439.24782032, 289.88861938,\n",
       "       240.92446848, 602.75287964, 276.12871498, 496.84222776,\n",
       "       622.58042445, 453.7856066 , 491.50945557, 200.43173612,\n",
       "       548.45435512, 710.62180059, 692.67102973, 572.07534996,\n",
       "       276.67399726, 453.7856066 , 494.18307294, 620.36366462,\n",
       "       546.62018768, 493.19007814, 444.91995406, 735.81067717,\n",
       "       381.58020043, 523.70444425, 695.58274895, 334.56998864,\n",
       "       227.52716591, 679.1478697 , 443.55933273, 456.71940476,\n",
       "       532.37191606, 457.576395  , 873.23899652, 607.20463362,\n",
       "       180.98590122, 693.24741982, 575.78540797, 629.31716795,\n",
       "       418.77391931, 780.43165602, 896.42681546, 511.11332698,\n",
       "       512.31472917, 485.71517846, 460.73096918, 808.16226094,\n",
       "       199.92775326, 417.96763222, 498.33269397, 330.86568474,\n",
       "       473.77122002, 502.28382059, 319.05608533, 873.23899652,\n",
       "       617.67949892, 523.05103272, 661.15991631, 629.31716795,\n",
       "       599.08624543, 410.84891736, 671.84793815, 565.22571659,\n",
       "       547.40143471, 675.19969821, 376.0171796 , 859.01487818,\n",
       "       632.7174444 , 588.74670753, 491.50945557, 305.5406596 ,\n",
       "       702.39337126, 629.31716795, 527.01617615, 706.17333274,\n",
       "       307.47616208, 697.80051441, 132.16850172, 656.09890994,\n",
       "       466.6668796 , 735.81067717, 455.36624754, 580.52724323,\n",
       "       415.30751422, 456.71940476, 567.36879992, 334.56998864,\n",
       "       636.46445482, 696.84303444, 545.81698486, 607.20463362,\n",
       "       388.87791236, 464.34829928, 702.39337126, 693.24741982,\n",
       "       265.12753618, 458.68995552, 702.12944009, 826.29676237,\n",
       "       649.80044842, 305.5406596 , 629.31716795, 381.58020043,\n",
       "       294.93396909, 473.43963562, 562.37828936, 180.98590122,\n",
       "       223.06418446, 780.43165602, 571.95394995, 629.44579521,\n",
       "       132.16850172, 272.53590462, 628.10463605, 453.7856066 ,\n",
       "       895.60733807, 677.56653742, 695.30786428, 396.07244684,\n",
       "       710.62180059, 453.7856066 , 283.20127757, 479.02318916,\n",
       "       562.64652917, 697.03688138, 256.57547539, 808.16226094,\n",
       "       501.51469972, 289.88861938, 692.67102973, 644.55044387,\n",
       "       314.59781586, 702.43844615, 329.21873664, 575.78540797,\n",
       "       580.52724323, 407.14859844, 703.3517379 , 319.7566734 ,\n",
       "       822.24983674, 830.37511947, 238.03362476, 673.19778214,\n",
       "       934.70370438, 301.40977682, 183.38909345, 605.78704554,\n",
       "       693.24741982, 699.9193405 , 444.91995406, 510.90231108,\n",
       "       479.02318916, 294.93396909, 537.36152333, 403.07518676,\n",
       "       703.06362543, 895.60733807, 533.06114332, 705.1925434 ,\n",
       "       692.67102973, 399.84586976, 132.16850172, 556.65109074,\n",
       "       317.05025221, 401.45236713, 537.36152333, 334.56998864,\n",
       "       413.79243022, 376.3013231 , 801.44755838, 473.77122002,\n",
       "       807.48770575, 697.03688138, 652.13906374, 753.46469703,\n",
       "       607.20463362, 276.67399726, 695.30786428, 550.36390883,\n",
       "       566.32038852, 473.79356548])"
      ]
     },
     "execution_count": 25,
     "metadata": {},
     "output_type": "execute_result"
    }
   ],
   "source": [
    "# Predicting the Results\n",
    "y_pred = regressor.predict(X_test.reshape(-1,1))\n",
    "y_pred"
   ]
  },
  {
   "cell_type": "code",
   "execution_count": 26,
   "metadata": {},
   "outputs": [
    {
     "data": {
      "text/html": [
       "<div>\n",
       "<style scoped>\n",
       "    .dataframe tbody tr th:only-of-type {\n",
       "        vertical-align: middle;\n",
       "    }\n",
       "\n",
       "    .dataframe tbody tr th {\n",
       "        vertical-align: top;\n",
       "    }\n",
       "\n",
       "    .dataframe thead th {\n",
       "        text-align: right;\n",
       "    }\n",
       "</style>\n",
       "<table border=\"1\" class=\"dataframe\">\n",
       "  <thead>\n",
       "    <tr style=\"text-align: right;\">\n",
       "      <th></th>\n",
       "      <th>Real Values</th>\n",
       "      <th>Predicted Values</th>\n",
       "    </tr>\n",
       "  </thead>\n",
       "  <tbody>\n",
       "    <tr>\n",
       "      <td>0</td>\n",
       "      <td>569.618756</td>\n",
       "      <td>564.390797</td>\n",
       "    </tr>\n",
       "    <tr>\n",
       "      <td>1</td>\n",
       "      <td>891.413646</td>\n",
       "      <td>899.799649</td>\n",
       "    </tr>\n",
       "    <tr>\n",
       "      <td>2</td>\n",
       "      <td>351.288869</td>\n",
       "      <td>334.569989</td>\n",
       "    </tr>\n",
       "    <tr>\n",
       "      <td>3</td>\n",
       "      <td>268.929179</td>\n",
       "      <td>334.771112</td>\n",
       "    </tr>\n",
       "    <tr>\n",
       "      <td>4</td>\n",
       "      <td>401.924792</td>\n",
       "      <td>381.580200</td>\n",
       "    </tr>\n",
       "    <tr>\n",
       "      <td>...</td>\n",
       "      <td>...</td>\n",
       "      <td>...</td>\n",
       "    </tr>\n",
       "    <tr>\n",
       "      <td>245</td>\n",
       "      <td>219.303993</td>\n",
       "      <td>276.673997</td>\n",
       "    </tr>\n",
       "    <tr>\n",
       "      <td>246</td>\n",
       "      <td>719.471701</td>\n",
       "      <td>695.307864</td>\n",
       "    </tr>\n",
       "    <tr>\n",
       "      <td>247</td>\n",
       "      <td>506.493748</td>\n",
       "      <td>550.363909</td>\n",
       "    </tr>\n",
       "    <tr>\n",
       "      <td>248</td>\n",
       "      <td>534.799028</td>\n",
       "      <td>566.320389</td>\n",
       "    </tr>\n",
       "    <tr>\n",
       "      <td>249</td>\n",
       "      <td>541.293663</td>\n",
       "      <td>473.793565</td>\n",
       "    </tr>\n",
       "  </tbody>\n",
       "</table>\n",
       "<p>250 rows × 2 columns</p>\n",
       "</div>"
      ],
      "text/plain": [
       "     Real Values  Predicted Values\n",
       "0     569.618756        564.390797\n",
       "1     891.413646        899.799649\n",
       "2     351.288869        334.569989\n",
       "3     268.929179        334.771112\n",
       "4     401.924792        381.580200\n",
       "..           ...               ...\n",
       "245   219.303993        276.673997\n",
       "246   719.471701        695.307864\n",
       "247   506.493748        550.363909\n",
       "248   534.799028        566.320389\n",
       "249   541.293663        473.793565\n",
       "\n",
       "[250 rows x 2 columns]"
      ]
     },
     "execution_count": 26,
     "metadata": {},
     "output_type": "execute_result"
    }
   ],
   "source": [
    "# Comparing the Real Values with Predicted Values\n",
    "df = pd.DataFrame({'Real Values':y_test.reshape(-1), 'Predicted Values':y_pred.reshape(-1)})\n",
    "df"
   ]
  },
  {
   "cell_type": "code",
   "execution_count": 29,
   "metadata": {},
   "outputs": [
    {
     "data": {
      "image/png": "[encoded data removed]",
      "text/plain": [
       "<Figure size 432x288 with 1 Axes>"
      ]
     },
     "metadata": {
      "needs_background": "light"
     },
     "output_type": "display_data"
    }
   ],
   "source": [
    "# Visualising the Random Forest Regression Results\n",
    "X_grid = np.arange(min(X), max(X), 0.01)\n",
    "X_grid = X_grid.reshape((len(X_grid), 1))\n",
    "plt.scatter(X_test, y_test, color = 'blue')\n",
    "plt.scatter(X_test, y_pred, color = 'teal')\n",
    "plt.title('Random Forest Regression')\n",
    "plt.xlabel('Temperature')\n",
    "plt.ylabel('Revenue')\n",
    "plt.show()"
   ]
  },
  {
   "cell_type": "code",
   "execution_count": 30,
   "metadata": {},
   "outputs": [
    {
     "data": {
      "image/png": "[encoded data removed]",
      "text/plain": [
       "<Figure size 432x288 with 1 Axes>"
      ]
     },
     "metadata": {
      "needs_background": "light"
     },
     "output_type": "display_data"
    }
   ],
   "source": [
    "# Visualising the Random Forest Regression Results\n",
    "plt.plot(X_grid, regressor.predict(X_grid), color = 'brown')\n",
    "plt.title('Random Forest Regression')\n",
    "plt.xlabel('Temperature')\n",
    "plt.ylabel('Revenue')\n",
    "plt.show()"
   ]
  },
  {
   "cell_type": "code",
   "execution_count": 34,
   "metadata": {},
   "outputs": [
    {
     "data": {
      "text/plain": [
       "array([473.14514565])"
      ]
     },
     "execution_count": 34,
     "metadata": {},
     "output_type": "execute_result"
    }
   ],
   "source": [
    "# Predicting revenue at a given temperature\n",
    "T = 20\n",
    "Revenue = regressor.predict([[T]])\n",
    "Revenue"
   ]
  },
  {
   "cell_type": "code",
   "execution_count": null,
   "metadata": {},
   "outputs": [],
   "source": []
  }
 ],
 "metadata": {
  "kernelspec": {
   "display_name": "Python 3",
   "language": "python",
   "name": "python3"
  },
  "language_info": {
   "codemirror_mode": {
    "name": "ipython",
    "version": 3
   },
   "file_extension": ".py",
   "mimetype": "text/x-python",
   "name": "python",
   "nbconvert_exporter": "python",
   "pygments_lexer": "ipython3",
   "version": "3.7.4"
  }
 },
 "nbformat": 4,
 "nbformat_minor": 4
}
