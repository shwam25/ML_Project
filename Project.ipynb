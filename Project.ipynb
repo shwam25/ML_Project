{
 "cells": [
  {
   "cell_type": "code",
   "execution_count": 20,
   "metadata": {},
   "outputs": [],
   "source": [
    "#Import Libraries\n",
    "import pandas as pd\n",
    "import numpy as np\n",
    "import matplotlib.pyplot as plt\n",
    "from scipy.stats import linregress"
   ]
  },
  {
   "cell_type": "code",
   "execution_count": 2,
   "metadata": {},
   "outputs": [],
   "source": [
    "file_one = \"Resources\\Data1.csv\"\n",
    "file_two = \"Resources\\Data2.csv\""
   ]
  },
  {
   "cell_type": "code",
   "execution_count": 3,
   "metadata": {},
   "outputs": [],
   "source": [
    "file_one_df = pd.read_csv(file_one, encoding=\"ISO-8859-1\")\n",
    "file_two_df = pd.read_csv(file_two, encoding=\"ISO-8859-1\")"
   ]
  },
  {
   "cell_type": "code",
   "execution_count": 4,
   "metadata": {},
   "outputs": [
    {
     "data": {
      "text/html": [
       "<div>\n",
       "<style scoped>\n",
       "    .dataframe tbody tr th:only-of-type {\n",
       "        vertical-align: middle;\n",
       "    }\n",
       "\n",
       "    .dataframe tbody tr th {\n",
       "        vertical-align: top;\n",
       "    }\n",
       "\n",
       "    .dataframe thead th {\n",
       "        text-align: right;\n",
       "    }\n",
       "</style>\n",
       "<table border=\"1\" class=\"dataframe\">\n",
       "  <thead>\n",
       "    <tr style=\"text-align: right;\">\n",
       "      <th></th>\n",
       "      <th>Temperature</th>\n",
       "      <th>Revenue</th>\n",
       "      <th>DATE</th>\n",
       "    </tr>\n",
       "  </thead>\n",
       "  <tbody>\n",
       "    <tr>\n",
       "      <td>0</td>\n",
       "      <td>24.566884</td>\n",
       "      <td>534.799028</td>\n",
       "      <td>01/01/1972</td>\n",
       "    </tr>\n",
       "    <tr>\n",
       "      <td>1</td>\n",
       "      <td>26.005191</td>\n",
       "      <td>625.190122</td>\n",
       "      <td>01/02/1972</td>\n",
       "    </tr>\n",
       "    <tr>\n",
       "      <td>2</td>\n",
       "      <td>27.790554</td>\n",
       "      <td>660.632289</td>\n",
       "      <td>01/03/1972</td>\n",
       "    </tr>\n",
       "    <tr>\n",
       "      <td>3</td>\n",
       "      <td>20.595335</td>\n",
       "      <td>487.706960</td>\n",
       "      <td>01/04/1972</td>\n",
       "    </tr>\n",
       "    <tr>\n",
       "      <td>4</td>\n",
       "      <td>11.503498</td>\n",
       "      <td>316.240194</td>\n",
       "      <td>01/05/1972</td>\n",
       "    </tr>\n",
       "  </tbody>\n",
       "</table>\n",
       "</div>"
      ],
      "text/plain": [
       "   Temperature     Revenue        DATE\n",
       "0    24.566884  534.799028  01/01/1972\n",
       "1    26.005191  625.190122  01/02/1972\n",
       "2    27.790554  660.632289  01/03/1972\n",
       "3    20.595335  487.706960  01/04/1972\n",
       "4    11.503498  316.240194  01/05/1972"
      ]
     },
     "execution_count": 4,
     "metadata": {},
     "output_type": "execute_result"
    }
   ],
   "source": [
    "#Combining two Data frames\n",
    "file_one_df[\"DATE\"]=file_two_df[\"DATE\"]\n",
    "file_one_df.head()\n"
   ]
  },
  {
   "cell_type": "code",
   "execution_count": 5,
   "metadata": {},
   "outputs": [
    {
     "data": {
      "text/html": [
       "<div>\n",
       "<style scoped>\n",
       "    .dataframe tbody tr th:only-of-type {\n",
       "        vertical-align: middle;\n",
       "    }\n",
       "\n",
       "    .dataframe tbody tr th {\n",
       "        vertical-align: top;\n",
       "    }\n",
       "\n",
       "    .dataframe thead th {\n",
       "        text-align: right;\n",
       "    }\n",
       "</style>\n",
       "<table border=\"1\" class=\"dataframe\">\n",
       "  <thead>\n",
       "    <tr style=\"text-align: right;\">\n",
       "      <th></th>\n",
       "      <th>Temperature</th>\n",
       "      <th>Revenue</th>\n",
       "      <th>DATE</th>\n",
       "      <th>value</th>\n",
       "    </tr>\n",
       "  </thead>\n",
       "  <tbody>\n",
       "    <tr>\n",
       "      <td>0</td>\n",
       "      <td>24.566884</td>\n",
       "      <td>534.799028</td>\n",
       "      <td>01/01/1972</td>\n",
       "      <td>59.9622</td>\n",
       "    </tr>\n",
       "    <tr>\n",
       "      <td>1</td>\n",
       "      <td>26.005191</td>\n",
       "      <td>625.190122</td>\n",
       "      <td>01/02/1972</td>\n",
       "      <td>67.0605</td>\n",
       "    </tr>\n",
       "    <tr>\n",
       "      <td>2</td>\n",
       "      <td>27.790554</td>\n",
       "      <td>660.632289</td>\n",
       "      <td>01/03/1972</td>\n",
       "      <td>74.2350</td>\n",
       "    </tr>\n",
       "    <tr>\n",
       "      <td>3</td>\n",
       "      <td>20.595335</td>\n",
       "      <td>487.706960</td>\n",
       "      <td>01/04/1972</td>\n",
       "      <td>78.1120</td>\n",
       "    </tr>\n",
       "    <tr>\n",
       "      <td>4</td>\n",
       "      <td>11.503498</td>\n",
       "      <td>316.240194</td>\n",
       "      <td>01/05/1972</td>\n",
       "      <td>84.7636</td>\n",
       "    </tr>\n",
       "  </tbody>\n",
       "</table>\n",
       "</div>"
      ],
      "text/plain": [
       "   Temperature     Revenue        DATE    value\n",
       "0    24.566884  534.799028  01/01/1972  59.9622\n",
       "1    26.005191  625.190122  01/02/1972  67.0605\n",
       "2    27.790554  660.632289  01/03/1972  74.2350\n",
       "3    20.595335  487.706960  01/04/1972  78.1120\n",
       "4    11.503498  316.240194  01/05/1972  84.7636"
      ]
     },
     "execution_count": 5,
     "metadata": {},
     "output_type": "execute_result"
    }
   ],
   "source": [
    "file_one_df[\"value\"]=file_two_df[\"value\"]\n",
    "file_one_df.head()"
   ]
  },
  {
   "cell_type": "code",
   "execution_count": 6,
   "metadata": {},
   "outputs": [],
   "source": [
    "data=file_one_df"
   ]
  },
  {
   "cell_type": "code",
   "execution_count": 7,
   "metadata": {},
   "outputs": [],
   "source": [
    "#Renaming Columns\n",
    "final_data=data.rename(columns={\"DATE\": \"Date\", \"value\": \"Consumption\"})"
   ]
  },
  {
   "cell_type": "code",
   "execution_count": 8,
   "metadata": {},
   "outputs": [
    {
     "data": {
      "text/html": [
       "<div>\n",
       "<style scoped>\n",
       "    .dataframe tbody tr th:only-of-type {\n",
       "        vertical-align: middle;\n",
       "    }\n",
       "\n",
       "    .dataframe tbody tr th {\n",
       "        vertical-align: top;\n",
       "    }\n",
       "\n",
       "    .dataframe thead th {\n",
       "        text-align: right;\n",
       "    }\n",
       "</style>\n",
       "<table border=\"1\" class=\"dataframe\">\n",
       "  <thead>\n",
       "    <tr style=\"text-align: right;\">\n",
       "      <th></th>\n",
       "      <th>Temperature</th>\n",
       "      <th>Revenue</th>\n",
       "      <th>Date</th>\n",
       "      <th>Consumption</th>\n",
       "    </tr>\n",
       "  </thead>\n",
       "  <tbody>\n",
       "    <tr>\n",
       "      <td>0</td>\n",
       "      <td>24.566884</td>\n",
       "      <td>534.799028</td>\n",
       "      <td>01/01/1972</td>\n",
       "      <td>59.9622</td>\n",
       "    </tr>\n",
       "    <tr>\n",
       "      <td>1</td>\n",
       "      <td>26.005191</td>\n",
       "      <td>625.190122</td>\n",
       "      <td>01/02/1972</td>\n",
       "      <td>67.0605</td>\n",
       "    </tr>\n",
       "    <tr>\n",
       "      <td>2</td>\n",
       "      <td>27.790554</td>\n",
       "      <td>660.632289</td>\n",
       "      <td>01/03/1972</td>\n",
       "      <td>74.2350</td>\n",
       "    </tr>\n",
       "    <tr>\n",
       "      <td>3</td>\n",
       "      <td>20.595335</td>\n",
       "      <td>487.706960</td>\n",
       "      <td>01/04/1972</td>\n",
       "      <td>78.1120</td>\n",
       "    </tr>\n",
       "    <tr>\n",
       "      <td>4</td>\n",
       "      <td>11.503498</td>\n",
       "      <td>316.240194</td>\n",
       "      <td>01/05/1972</td>\n",
       "      <td>84.7636</td>\n",
       "    </tr>\n",
       "  </tbody>\n",
       "</table>\n",
       "</div>"
      ],
      "text/plain": [
       "   Temperature     Revenue        Date  Consumption\n",
       "0    24.566884  534.799028  01/01/1972      59.9622\n",
       "1    26.005191  625.190122  01/02/1972      67.0605\n",
       "2    27.790554  660.632289  01/03/1972      74.2350\n",
       "3    20.595335  487.706960  01/04/1972      78.1120\n",
       "4    11.503498  316.240194  01/05/1972      84.7636"
      ]
     },
     "execution_count": 8,
     "metadata": {},
     "output_type": "execute_result"
    }
   ],
   "source": [
    "final_data.head()"
   ]
  },
  {
   "cell_type": "code",
   "execution_count": 9,
   "metadata": {},
   "outputs": [
    {
     "data": {
      "text/plain": [
       "10.0"
      ]
     },
     "execution_count": 9,
     "metadata": {},
     "output_type": "execute_result"
    }
   ],
   "source": [
    "min_rev=data['Revenue'].min()\n",
    "min_rev"
   ]
  },
  {
   "cell_type": "code",
   "execution_count": 10,
   "metadata": {},
   "outputs": [
    {
     "data": {
      "text/plain": [
       "1000.0"
      ]
     },
     "execution_count": 10,
     "metadata": {},
     "output_type": "execute_result"
    }
   ],
   "source": [
    "max_rev=data['Revenue'].max()\n",
    "max_rev"
   ]
  },
  {
   "cell_type": "code",
   "execution_count": 11,
   "metadata": {},
   "outputs": [
    {
     "data": {
      "image/png": "[encoded data removed]",
      "text/plain": [
       "<Figure size 432x288 with 1 Axes>"
      ]
     },
     "metadata": {
      "needs_background": "light"
     },
     "output_type": "display_data"
    }
   ],
   "source": [
    "# Add the linear regression equation and line to plot fot Temperature and Revenue\n",
    "x_axis=final_data.Temperature\n",
    "y_axis=final_data.Revenue\n",
    "(slope, intercept, rvalue, pvalue, stderr) = linregress(x_axis, y_axis)\n",
    "regress_values = x_axis * slope + intercept\n",
    "line_eq = \"y = \" + str(round(slope,2)) + \"x + \" + str(round(intercept,2))\n",
    "plt.scatter(x_axis, y_axis)\n",
    "plt.plot(x_axis,regress_values,\"r-\")\n",
    "plt.annotate(line_eq,(6,10),fontsize=15,color=\"red\")\n",
    "plt.xlabel(\"Temperature (Celsius)\")\n",
    "plt.ylabel(\"Revenue\")\n",
    "plt.title(\"Temperature Vs Revenue\")\n",
    "plt.xlim(0,50)\n",
    "plt.ylim(10,1100)\n",
    "plt.show()"
   ]
  },
  {
   "cell_type": "code",
   "execution_count": 12,
   "metadata": {},
   "outputs": [
    {
     "data": {
      "image/png": "[encoded data removed]",
      "text/plain": [
       "<Figure size 432x288 with 1 Axes>"
      ]
     },
     "metadata": {
      "needs_background": "light"
     },
     "output_type": "display_data"
    }
   ],
   "source": [
    "# Add the linear regression equation and line to plot fot Temperature and Consumption\n",
    "x_axis=final_data.Temperature\n",
    "y_axis=final_data.Consumption\n",
    "(slope, intercept, rvalue, pvalue, stderr) = linregress(x_axis, y_axis)\n",
    "regress_values = x_axis * slope + intercept\n",
    "line_eq = \"y = \" + str(round(slope,2)) + \"x + \" + str(round(intercept,2))\n",
    "plt.scatter(x_axis, y_axis)\n",
    "plt.plot(x_axis,regress_values,\"r-\")\n",
    "plt.annotate(line_eq,(6,10),fontsize=15,color=\"red\")\n",
    "plt.xlabel(\"Temperature\")\n",
    "plt.ylabel(\"Consumption\")\n",
    "plt.title(\"Temperature Vs Consumption\")\n",
    "plt.show()"
   ]
  },
  {
   "cell_type": "markdown",
   "metadata": {},
   "source": [
    "Random Forest Classifier\n",
    "------------------------------------------"
   ]
  },
  {
   "cell_type": "code",
   "execution_count": 13,
   "metadata": {},
   "outputs": [
    {
     "data": {
      "text/html": [
       "<div>\n",
       "<style scoped>\n",
       "    .dataframe tbody tr th:only-of-type {\n",
       "        vertical-align: middle;\n",
       "    }\n",
       "\n",
       "    .dataframe tbody tr th {\n",
       "        vertical-align: top;\n",
       "    }\n",
       "\n",
       "    .dataframe thead th {\n",
       "        text-align: right;\n",
       "    }\n",
       "</style>\n",
       "<table border=\"1\" class=\"dataframe\">\n",
       "  <thead>\n",
       "    <tr style=\"text-align: right;\">\n",
       "      <th></th>\n",
       "      <th>Temperature</th>\n",
       "      <th>Revenue</th>\n",
       "      <th>Date</th>\n",
       "      <th>Consumption</th>\n",
       "    </tr>\n",
       "  </thead>\n",
       "  <tbody>\n",
       "    <tr>\n",
       "      <td>0</td>\n",
       "      <td>24.566884</td>\n",
       "      <td>534.799028</td>\n",
       "      <td>01/01/1972</td>\n",
       "      <td>59.9622</td>\n",
       "    </tr>\n",
       "    <tr>\n",
       "      <td>1</td>\n",
       "      <td>26.005191</td>\n",
       "      <td>625.190122</td>\n",
       "      <td>01/02/1972</td>\n",
       "      <td>67.0605</td>\n",
       "    </tr>\n",
       "    <tr>\n",
       "      <td>2</td>\n",
       "      <td>27.790554</td>\n",
       "      <td>660.632289</td>\n",
       "      <td>01/03/1972</td>\n",
       "      <td>74.2350</td>\n",
       "    </tr>\n",
       "    <tr>\n",
       "      <td>3</td>\n",
       "      <td>20.595335</td>\n",
       "      <td>487.706960</td>\n",
       "      <td>01/04/1972</td>\n",
       "      <td>78.1120</td>\n",
       "    </tr>\n",
       "    <tr>\n",
       "      <td>4</td>\n",
       "      <td>11.503498</td>\n",
       "      <td>316.240194</td>\n",
       "      <td>01/05/1972</td>\n",
       "      <td>84.7636</td>\n",
       "    </tr>\n",
       "    <tr>\n",
       "      <td>5</td>\n",
       "      <td>14.352514</td>\n",
       "      <td>367.940744</td>\n",
       "      <td>01/06/1972</td>\n",
       "      <td>100.5960</td>\n",
       "    </tr>\n",
       "    <tr>\n",
       "      <td>6</td>\n",
       "      <td>13.707780</td>\n",
       "      <td>308.894518</td>\n",
       "      <td>01/07/1972</td>\n",
       "      <td>100.1263</td>\n",
       "    </tr>\n",
       "    <tr>\n",
       "      <td>7</td>\n",
       "      <td>30.833985</td>\n",
       "      <td>696.716640</td>\n",
       "      <td>01/08/1972</td>\n",
       "      <td>96.3607</td>\n",
       "    </tr>\n",
       "    <tr>\n",
       "      <td>8</td>\n",
       "      <td>0.976870</td>\n",
       "      <td>55.390338</td>\n",
       "      <td>01/09/1972</td>\n",
       "      <td>85.8007</td>\n",
       "    </tr>\n",
       "    <tr>\n",
       "      <td>9</td>\n",
       "      <td>31.669465</td>\n",
       "      <td>737.800824</td>\n",
       "      <td>01/10/1972</td>\n",
       "      <td>70.3934</td>\n",
       "    </tr>\n",
       "  </tbody>\n",
       "</table>\n",
       "</div>"
      ],
      "text/plain": [
       "   Temperature     Revenue        Date  Consumption\n",
       "0    24.566884  534.799028  01/01/1972      59.9622\n",
       "1    26.005191  625.190122  01/02/1972      67.0605\n",
       "2    27.790554  660.632289  01/03/1972      74.2350\n",
       "3    20.595335  487.706960  01/04/1972      78.1120\n",
       "4    11.503498  316.240194  01/05/1972      84.7636\n",
       "5    14.352514  367.940744  01/06/1972     100.5960\n",
       "6    13.707780  308.894518  01/07/1972     100.1263\n",
       "7    30.833985  696.716640  01/08/1972      96.3607\n",
       "8     0.976870   55.390338  01/09/1972      85.8007\n",
       "9    31.669465  737.800824  01/10/1972      70.3934"
      ]
     },
     "execution_count": 13,
     "metadata": {},
     "output_type": "execute_result"
    }
   ],
   "source": [
    "# data preview\n",
    "final_data.head(10)"
   ]
  },
  {
   "cell_type": "code",
   "execution_count": 14,
   "metadata": {},
   "outputs": [],
   "source": [
    "# Assigning X and y values\n",
    "X = final_data['Temperature'].values\n",
    "y = final_data['Revenue'].values"
   ]
  },
  {
   "cell_type": "code",
   "execution_count": 15,
   "metadata": {},
   "outputs": [],
   "source": [
    "# Splitting the dataset into the Training set and Test set\n",
    "from sklearn.model_selection import train_test_split\n",
    "X_train, X_test, y_train, y_test = train_test_split(X, y, test_size = 0.50)"
   ]
  },
  {
   "cell_type": "code",
   "execution_count": 16,
   "metadata": {},
   "outputs": [
    {
     "name": "stderr",
     "output_type": "stream",
     "text": [
      "C:\\Users\\shweta shukla\\Anaconda3\\lib\\site-packages\\ipykernel_launcher.py:4: DataConversionWarning: A column-vector y was passed when a 1d array was expected. Please change the shape of y to (n_samples,), for example using ravel().\n",
      "  after removing the cwd from sys.path.\n"
     ]
    },
    {
     "data": {
      "text/plain": [
       "RandomForestRegressor(bootstrap=True, criterion='mse', max_depth=None,\n",
       "                      max_features='auto', max_leaf_nodes=None,\n",
       "                      min_impurity_decrease=0.0, min_impurity_split=None,\n",
       "                      min_samples_leaf=1, min_samples_split=2,\n",
       "                      min_weight_fraction_leaf=0.0, n_estimators=10,\n",
       "                      n_jobs=None, oob_score=False, random_state=42, verbose=0,\n",
       "                      warm_start=False)"
      ]
     },
     "execution_count": 16,
     "metadata": {},
     "output_type": "execute_result"
    }
   ],
   "source": [
    "# Fitting Random Forest Regression to the dataset\n",
    "from sklearn.ensemble import RandomForestRegressor\n",
    "regressor = RandomForestRegressor(n_estimators = 10, random_state = 42)\n",
    "regressor.fit(X_train.reshape(-1,1), y_train.reshape(-1,1))"
   ]
  },
  {
   "cell_type": "code",
   "execution_count": 17,
   "metadata": {},
   "outputs": [
    {
     "data": {
      "text/plain": [
       "array([820.55456438, 631.6760879 , 757.61288558, 617.1554259 ,\n",
       "       583.84375211, 565.20108683, 607.61058205, 524.17491946,\n",
       "       308.016448  , 682.62136561, 610.43224727, 304.0170953 ,\n",
       "       619.9463984 , 303.07630686, 502.69397016, 407.77216663,\n",
       "       377.6914835 , 272.66939042, 835.50985254, 667.36146745,\n",
       "       606.93538805, 425.17123132, 710.55589184, 515.5856537 ,\n",
       "       560.46821645, 778.77692984, 756.01577176, 678.1579556 ,\n",
       "       588.53060553, 341.0344219 , 561.9422064 , 458.16146621,\n",
       "       411.17983321, 809.70375515, 475.90246038, 189.80845105,\n",
       "        40.20299697, 448.30320327, 710.55589184, 546.62879192,\n",
       "       387.77133881, 549.21298244, 508.87007232, 535.39717898,\n",
       "       466.45835303, 510.34971486, 835.50985254, 672.45033657,\n",
       "       617.75724152, 648.77266976, 538.86668154, 541.6468618 ,\n",
       "       313.50448366, 699.36242616, 363.57109402, 501.1062765 ,\n",
       "       701.06490887, 579.67201444, 507.09912457, 612.19380964,\n",
       "       835.50985254, 533.8453764 , 465.56895403, 313.38824192,\n",
       "       371.37606678, 667.36146745, 460.58674821, 389.94237952,\n",
       "       639.85748629, 679.43369948, 578.31689752, 245.15605205,\n",
       "       499.40325829, 678.1579556 , 835.50985254, 397.05373529,\n",
       "       602.49700479, 497.04727978, 864.24470258, 302.77451072,\n",
       "       598.31400122, 598.31400122, 666.84974027, 700.31653304,\n",
       "       274.30523726, 335.74172803, 667.36146745, 672.45033657,\n",
       "       593.41335963, 437.94553177, 424.25326177, 612.13098552,\n",
       "       455.58938108, 702.64628365, 916.8226059 , 608.82804842,\n",
       "       457.46545465, 699.39767752, 695.70801241, 321.67794823,\n",
       "       488.42051977, 535.6565586 , 374.71632912, 547.52919746,\n",
       "       425.87348802, 700.11318201, 569.89572565, 544.52156909,\n",
       "       864.24470258, 608.82804842, 613.1474335 , 570.71344907,\n",
       "       455.58938108, 760.14662369, 645.76147084, 382.14959554,\n",
       "       427.58362238, 588.02305493, 524.92451077, 613.7128068 ,\n",
       "       518.87589816, 465.56895403, 701.06490887, 389.94237952,\n",
       "       460.58674821, 528.87429937, 286.35413754, 819.02633405,\n",
       "       640.48805804, 757.61288558, 507.09912457, 864.24470258,\n",
       "       284.33830625, 527.32133259, 663.74793768, 515.5856537 ,\n",
       "       377.17910613, 587.24863185, 515.5856537 , 504.62751464,\n",
       "       545.48183405, 519.76178934, 489.14824151, 279.67457986,\n",
       "       447.61981221, 469.32883362, 648.77266976, 747.33217837,\n",
       "       214.08609372, 266.68121614, 579.67201444, 615.49184508,\n",
       "       819.02633405, 245.15605205, 466.24854744, 447.12364786,\n",
       "       916.8226059 , 266.21359992, 671.81253535, 387.77133881,\n",
       "       527.32133259, 586.15260933, 666.9934319 , 451.72906212,\n",
       "       400.53000227, 510.34971486, 935.74894207, 657.16384136,\n",
       "       667.36146745, 636.10774741, 195.5997466 , 363.57109402,\n",
       "       439.22763692, 245.15605205, 619.9463984 , 218.07357997,\n",
       "       619.73858501, 458.16146621, 661.15991631, 622.08707432,\n",
       "       615.32373728, 411.17983321, 407.77216663, 740.7710071 ,\n",
       "       554.0518188 , 695.70801241, 679.43369948, 228.48663614,\n",
       "       809.70375515, 678.1579556 , 711.22794616, 335.74172803,\n",
       "       501.1062765 , 636.65632797, 247.08826161, 809.76715865,\n",
       "       505.46181929, 916.8226059 , 586.15260933, 326.92430591,\n",
       "       451.72906212, 274.30523726, 627.34145378, 456.38100547,\n",
       "       339.14754578, 637.9577265 , 650.37168952, 651.60001325,\n",
       "       756.01577176, 640.48805804, 619.9463984 , 447.12364786,\n",
       "       308.016448  , 747.33217837, 308.016448  , 809.70375515,\n",
       "       465.56895403, 334.17011136, 286.35413754, 369.82053683,\n",
       "       397.05373529, 569.89572565, 680.59565195, 566.0204349 ,\n",
       "       721.55066984, 404.26338808, 888.38282622, 335.74172803,\n",
       "       272.32443175, 540.9225866 , 554.0518188 , 261.10409658,\n",
       "       303.07630686, 212.65872693, 613.1474335 , 438.76187976,\n",
       "       438.68386618, 701.16962486, 586.15260933, 212.65872693,\n",
       "       535.39717898, 770.21435342, 380.51716025, 626.73646325,\n",
       "       517.5113176 , 598.31400122, 228.48663614, 615.32373728,\n",
       "       809.50146756, 335.74172803])"
      ]
     },
     "execution_count": 17,
     "metadata": {},
     "output_type": "execute_result"
    }
   ],
   "source": [
    "# Predicting the Results\n",
    "y_pred = regressor.predict(X_test.reshape(-1,1))\n",
    "y_pred"
   ]
  },
  {
   "cell_type": "code",
   "execution_count": 18,
   "metadata": {},
   "outputs": [
    {
     "data": {
      "text/html": [
       "<div>\n",
       "<style scoped>\n",
       "    .dataframe tbody tr th:only-of-type {\n",
       "        vertical-align: middle;\n",
       "    }\n",
       "\n",
       "    .dataframe tbody tr th {\n",
       "        vertical-align: top;\n",
       "    }\n",
       "\n",
       "    .dataframe thead th {\n",
       "        text-align: right;\n",
       "    }\n",
       "</style>\n",
       "<table border=\"1\" class=\"dataframe\">\n",
       "  <thead>\n",
       "    <tr style=\"text-align: right;\">\n",
       "      <th></th>\n",
       "      <th>Real Values</th>\n",
       "      <th>Predicted Values</th>\n",
       "    </tr>\n",
       "  </thead>\n",
       "  <tbody>\n",
       "    <tr>\n",
       "      <td>0</td>\n",
       "      <td>809.463411</td>\n",
       "      <td>820.554564</td>\n",
       "    </tr>\n",
       "    <tr>\n",
       "      <td>1</td>\n",
       "      <td>654.894955</td>\n",
       "      <td>631.676088</td>\n",
       "    </tr>\n",
       "    <tr>\n",
       "      <td>2</td>\n",
       "      <td>774.108081</td>\n",
       "      <td>757.612886</td>\n",
       "    </tr>\n",
       "    <tr>\n",
       "      <td>3</td>\n",
       "      <td>612.243721</td>\n",
       "      <td>617.155426</td>\n",
       "    </tr>\n",
       "    <tr>\n",
       "      <td>4</td>\n",
       "      <td>572.537048</td>\n",
       "      <td>583.843752</td>\n",
       "    </tr>\n",
       "    <tr>\n",
       "      <td>...</td>\n",
       "      <td>...</td>\n",
       "      <td>...</td>\n",
       "    </tr>\n",
       "    <tr>\n",
       "      <td>245</td>\n",
       "      <td>534.799028</td>\n",
       "      <td>598.314001</td>\n",
       "    </tr>\n",
       "    <tr>\n",
       "      <td>246</td>\n",
       "      <td>250.131728</td>\n",
       "      <td>228.486636</td>\n",
       "    </tr>\n",
       "    <tr>\n",
       "      <td>247</td>\n",
       "      <td>623.598861</td>\n",
       "      <td>615.323737</td>\n",
       "    </tr>\n",
       "    <tr>\n",
       "      <td>248</td>\n",
       "      <td>756.962562</td>\n",
       "      <td>809.501468</td>\n",
       "    </tr>\n",
       "    <tr>\n",
       "      <td>249</td>\n",
       "      <td>315.646581</td>\n",
       "      <td>335.741728</td>\n",
       "    </tr>\n",
       "  </tbody>\n",
       "</table>\n",
       "<p>250 rows × 2 columns</p>\n",
       "</div>"
      ],
      "text/plain": [
       "     Real Values  Predicted Values\n",
       "0     809.463411        820.554564\n",
       "1     654.894955        631.676088\n",
       "2     774.108081        757.612886\n",
       "3     612.243721        617.155426\n",
       "4     572.537048        583.843752\n",
       "..           ...               ...\n",
       "245   534.799028        598.314001\n",
       "246   250.131728        228.486636\n",
       "247   623.598861        615.323737\n",
       "248   756.962562        809.501468\n",
       "249   315.646581        335.741728\n",
       "\n",
       "[250 rows x 2 columns]"
      ]
     },
     "execution_count": 18,
     "metadata": {},
     "output_type": "execute_result"
    }
   ],
   "source": [
    "# Comparing the Real Values with Predicted Values\n",
    "df = pd.DataFrame({'Real Values':y_test.reshape(-1), 'Predicted Values':y_pred.reshape(-1)})\n",
    "df"
   ]
  },
  {
   "cell_type": "code",
   "execution_count": 21,
   "metadata": {},
   "outputs": [
    {
     "data": {
      "image/png": "[encoded data removed]",
      "text/plain": [
       "<Figure size 432x288 with 1 Axes>"
      ]
     },
     "metadata": {
      "needs_background": "light"
     },
     "output_type": "display_data"
    }
   ],
   "source": [
    "# Visualising the Random Forest Regression Results\n",
    "X_grid = np.arange(min(X), max(X), 0.01)\n",
    "X_grid = X_grid.reshape((len(X_grid), 1))\n",
    "plt.scatter(X_test, y_test, color = 'blue')\n",
    "plt.scatter(X_test, y_pred, color = 'teal')\n",
    "plt.title('Random Forest Regression')\n",
    "plt.xlabel('Temperature')\n",
    "plt.ylabel('Revenue')\n",
    "plt.show()"
   ]
  },
  {
   "cell_type": "code",
   "execution_count": 22,
   "metadata": {},
   "outputs": [
    {
     "data": {
      "image/png": "[encoded data removed]",
      "text/plain": [
       "<Figure size 432x288 with 1 Axes>"
      ]
     },
     "metadata": {
      "needs_background": "light"
     },
     "output_type": "display_data"
    }
   ],
   "source": [
    "# Visualising the Random Forest Regression Results\n",
    "plt.plot(X_grid, regressor.predict(X_grid), color = 'brown')\n",
    "plt.title('Random Forest Regression')\n",
    "plt.xlabel('Temperature')\n",
    "plt.ylabel('Revenue')\n",
    "plt.show()"
   ]
  },
  {
   "cell_type": "code",
   "execution_count": 23,
   "metadata": {},
   "outputs": [
    {
     "data": {
      "text/plain": [
       "array([472.67603533])"
      ]
     },
     "execution_count": 23,
     "metadata": {},
     "output_type": "execute_result"
    }
   ],
   "source": [
    "# Predicting revenue at a given temperature\n",
    "T = 20\n",
    "Revenue = regressor.predict([[T]])\n",
    "Revenue"
   ]
  },
  {
   "cell_type": "code",
   "execution_count": null,
   "metadata": {},
   "outputs": [],
   "source": []
  }
 ],
 "metadata": {
  "kernelspec": {
   "display_name": "Python 3",
   "language": "python",
   "name": "python3"
  },
  "language_info": {
   "codemirror_mode": {
    "name": "ipython",
    "version": 3
   },
   "file_extension": ".py",
   "mimetype": "text/x-python",
   "name": "python",
   "nbconvert_exporter": "python",
   "pygments_lexer": "ipython3",
   "version": "3.7.4"
  }
 },
 "nbformat": 4,
 "nbformat_minor": 4
}
